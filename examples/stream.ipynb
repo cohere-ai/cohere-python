{
 "cells": [
  {
   "cell_type": "code",
   "execution_count": 1,
   "id": "cef99a2c-02dc-49a3-aaea-392ab5b8d34f",
   "metadata": {},
   "outputs": [],
   "source": [
    "import sys, time\n",
    "sys.path.append(\"..\")  # make sure we can run this from the repo\n",
    "import cohere"
   ]
  },
  {
   "cell_type": "code",
   "execution_count": 2,
   "id": "bc92817c-1d42-4e85-bb88-d0f790c6a469",
   "metadata": {},
   "outputs": [],
   "source": [
    "co = cohere.Client()"
   ]
  },
  {
   "cell_type": "code",
   "execution_count": 3,
   "id": "25cbc02f-6b3f-408f-86e0-a8862b20033b",
   "metadata": {
    "tags": []
   },
   "outputs": [
    {
     "data": {
      "text/plain": [
       "cohere.StreamingGenerations {\n",
       "\tresponse: <Response [200]>\n",
       "}"
      ]
     },
     "execution_count": 3,
     "metadata": {},
     "output_type": "execute_result"
    }
   ],
   "source": [
    "start_time = time.time()\n",
    "streaming_gens = co.generate(prompt=\"hey! 🐝🐝🐝🐝\", max_tokens=20, stream=True)\n",
    "streaming_gens"
   ]
  },
  {
   "cell_type": "code",
   "execution_count": 4,
   "id": "7d035868-42c7-429c-b57f-836eb8df7e5e",
   "metadata": {},
   "outputs": [
    {
     "name": "stdout",
     "output_type": "stream",
     "text": [
      "[0][0.43s] TokenLikelihood(index=0, token='��', likelihood=2e-44)\n",
      "[1][0.43s] TokenLikelihood(index=0, token='�', likelihood=2.1e-44)\n",
      "[2][0.43s] TokenLikelihood(index=0, token='�', likelihood=2.2e-44)\n",
      "[3][0.45s] TokenLikelihood(index=0, token='��', likelihood=2.4e-44)\n",
      "[4][0.70s] TokenLikelihood(index=0, token='�', likelihood=2.5e-44)\n",
      "[5][0.70s] TokenLikelihood(index=0, token='�', likelihood=2.7e-44)\n",
      "[6][0.70s] TokenLikelihood(index=0, token='��', likelihood=2.8e-44)\n",
      "[7][0.70s] TokenLikelihood(index=0, token='�', likelihood=3e-44)\n",
      "[8][0.70s] TokenLikelihood(index=0, token='�', likelihood=3.1e-44)\n",
      "[9][0.70s] TokenLikelihood(index=0, token='��', likelihood=3.2e-44)\n",
      "[10][0.70s] TokenLikelihood(index=0, token='�', likelihood=3.4e-44)\n",
      "[11][0.70s] TokenLikelihood(index=0, token='�', likelihood=3.5e-44)\n",
      "[12][0.70s] TokenLikelihood(index=0, token='��', likelihood=3.6e-44)\n",
      "[13][0.71s] TokenLikelihood(index=0, token='�', likelihood=3.8e-44)\n",
      "[14][0.74s] TokenLikelihood(index=0, token='�', likelihood=3.9e-44)\n",
      "[15][0.76s] TokenLikelihood(index=0, token='��', likelihood=4e-44)\n",
      "[16][0.79s] TokenLikelihood(index=0, token='�', likelihood=4.2e-44)\n",
      "[17][0.81s] TokenLikelihood(index=0, token='�', likelihood=4.3e-44)\n",
      "[18][0.86s] TokenLikelihood(index=0, token='��', likelihood=4.5e-44)\n",
      "[19][0.87s] TokenLikelihood(index=0, token='�', likelihood=-0.0014028251)\n"
     ]
    }
   ],
   "source": [
    "for i, token in enumerate(streaming_gens):\n",
    "    print(f\"[{i}][{time.time()-start_time:.2f}s] {token}\")"
   ]
  },
  {
   "cell_type": "code",
   "execution_count": 5,
   "id": "144ba6f3-1495-4fb3-b9f7-af9d9399ae70",
   "metadata": {},
   "outputs": [
    {
     "data": {
      "text/plain": [
       "cohere.StreamingGenerations {\n",
       "\tresponse: <ClientResponse(https://api.cohere.ai/generate) [200 OK]>\n",
       "<CIMultiDictProxy('Content-Type': 'application/stream+json', 'Vary': 'Origin', 'x-ratelimit-limit': '10000000', 'x-ratelimit-remaining': '9997097', 'x-ratelimit-reset': '1674403260', 'Date': 'Wed, 22 Feb 2023 16:14:25 GMT', 'Transfer-Encoding': 'chunked', 'Via': '1.1 google', 'Alt-Svc': 'h3=\":443\"; ma=2592000,h3-29=\":443\"; ma=2592000')>\n",
       "\n",
       "}"
      ]
     },
     "execution_count": 5,
     "metadata": {},
     "output_type": "execute_result"
    }
   ],
   "source": [
    "aio_co = cohere.AsyncClient()\n",
    "\n",
    "start_time = time.time()\n",
    "aio_streaming_gens = await aio_co.generate(prompt=\"안녕하\", max_tokens=20, stream=True)\n",
    "aio_streaming_gens"
   ]
  },
  {
   "cell_type": "code",
   "execution_count": 6,
   "id": "808cb881-dc76-4668-8772-5d41abbb9b90",
   "metadata": {},
   "outputs": [
    {
     "name": "stdout",
     "output_type": "stream",
     "text": [
      "[19][2.86s] TokenLikelihood(index=0, token='��', likelihood=7e-45)\n",
      "[19][2.86s] TokenLikelihood(index=0, token='�', likelihood=8e-45)\n",
      "[19][2.86s] TokenLikelihood(index=0, token='��', likelihood=1e-44)\n",
      "[19][2.86s] TokenLikelihood(index=0, token='�', likelihood=1.1e-44)\n",
      "[19][2.86s] TokenLikelihood(index=0, token='!', likelihood=1.3e-44)\n",
      "[19][2.86s] TokenLikelihood(index=0, token=' ��', likelihood=1.4e-44)\n",
      "[19][2.86s] TokenLikelihood(index=0, token='�', likelihood=1.5e-44)\n",
      "[19][2.86s] TokenLikelihood(index=0, token='��', likelihood=1.7e-44)\n",
      "[19][2.86s] TokenLikelihood(index=0, token='��', likelihood=1.8e-44)\n",
      "[19][2.86s] TokenLikelihood(index=0, token='�', likelihood=2e-44)\n",
      "[19][2.86s] TokenLikelihood(index=0, token='�', likelihood=2.1e-44)\n",
      "[19][2.86s] TokenLikelihood(index=0, token=' �', likelihood=2.2e-44)\n",
      "[19][2.86s] TokenLikelihood(index=0, token='�', likelihood=2.4e-44)\n",
      "[19][2.86s] TokenLikelihood(index=0, token='�', likelihood=2.5e-44)\n",
      "[19][2.86s] TokenLikelihood(index=0, token='�', likelihood=2.7e-44)\n",
      "[19][2.86s] TokenLikelihood(index=0, token='�', likelihood=2.8e-44)\n",
      "[19][2.86s] TokenLikelihood(index=0, token='�', likelihood=3e-44)\n",
      "[19][2.86s] TokenLikelihood(index=0, token='이', likelihood=3.1e-44)\n",
      "[19][2.86s] TokenLikelihood(index=0, token='나', likelihood=3.2e-44)\n",
      "[19][2.86s] TokenLikelihood(index=0, token=' �', likelihood=-1.2926809)\n"
     ]
    }
   ],
   "source": [
    "async for token in aio_streaming_gens:\n",
    "    print(f\"[{i}][{time.time()-start_time:.2f}s] {token}\")"
   ]
  },
  {
   "cell_type": "code",
   "execution_count": 8,
   "id": "f2c07bb1-2184-4bcd-942e-48a9a5690666",
   "metadata": {
    "tags": []
   },
   "outputs": [
    {
     "ename": "ValueError",
     "evalue": "For AsyncClient, use `async for` to iterate through the `StreamingGenerations`",
     "output_type": "error",
     "traceback": [
      "\u001b[0;31m---------------------------------------------------------------------------\u001b[0m",
      "\u001b[0;31mValueError\u001b[0m                                Traceback (most recent call last)",
      "Cell \u001b[0;32mIn[8], line 1\u001b[0m\n\u001b[0;32m----> 1\u001b[0m \u001b[38;5;28;01mfor\u001b[39;00m token \u001b[38;5;129;01min\u001b[39;00m aio_streaming_gens:\n\u001b[1;32m      2\u001b[0m     \u001b[38;5;28;01mpass\u001b[39;00m\n",
      "File \u001b[0;32m~/Desktop/cohere-python/examples/../cohere/responses/generation.py:129\u001b[0m, in \u001b[0;36mStreamingGenerations.__iter__\u001b[0;34m(self)\u001b[0m\n\u001b[1;32m    127\u001b[0m \u001b[38;5;28;01mdef\u001b[39;00m \u001b[38;5;21m__iter__\u001b[39m(\u001b[38;5;28mself\u001b[39m) \u001b[38;5;241m-\u001b[39m\u001b[38;5;241m>\u001b[39m Generator[StreamingTokenLikelihood, \u001b[38;5;28;01mNone\u001b[39;00m, \u001b[38;5;28;01mNone\u001b[39;00m]:\n\u001b[1;32m    128\u001b[0m     \u001b[38;5;28;01mif\u001b[39;00m \u001b[38;5;129;01mnot\u001b[39;00m \u001b[38;5;28misinstance\u001b[39m(\u001b[38;5;28mself\u001b[39m\u001b[38;5;241m.\u001b[39mresponse, requests\u001b[38;5;241m.\u001b[39mResponse):\n\u001b[0;32m--> 129\u001b[0m         \u001b[38;5;28;01mraise\u001b[39;00m \u001b[38;5;167;01mValueError\u001b[39;00m(\u001b[38;5;124m\"\u001b[39m\u001b[38;5;124mFor AsyncClient, use `async for` to iterate through the `StreamingGenerations`\u001b[39m\u001b[38;5;124m\"\u001b[39m)\n\u001b[1;32m    131\u001b[0m     \u001b[38;5;28;01mfor\u001b[39;00m line \u001b[38;5;129;01min\u001b[39;00m \u001b[38;5;28mself\u001b[39m\u001b[38;5;241m.\u001b[39mresponse\u001b[38;5;241m.\u001b[39miter_lines():\n\u001b[1;32m    132\u001b[0m         \u001b[38;5;28;01myield\u001b[39;00m StreamingTokenLikelihood(\u001b[38;5;241m*\u001b[39m\u001b[38;5;241m*\u001b[39mjson\u001b[38;5;241m.\u001b[39mloads(line))\n",
      "\u001b[0;31mValueError\u001b[0m: For AsyncClient, use `async for` to iterate through the `StreamingGenerations`"
     ]
    }
   ],
   "source": [
    "for token in aio_streaming_gens:\n",
    "    pass"
   ]
  },
  {
   "cell_type": "code",
   "execution_count": 11,
   "id": "520031f6-fe67-4984-a11a-74e8e52defbc",
   "metadata": {},
   "outputs": [],
   "source": [
    "res = co.generate(prompt='안녕하',max_tokens=50,return_likelihoods=\"ALL\")"
   ]
  },
  {
   "cell_type": "code",
   "execution_count": 12,
   "id": "15678e49-450c-4f31-a6a5-1199e9a5428b",
   "metadata": {
    "tags": []
   },
   "outputs": [
    {
     "data": {
      "text/html": [
       "<table border=\"1\" class=\"dataframe\">\n",
       "  <thead>\n",
       "    <tr style=\"text-align: right;\">\n",
       "      <th></th>\n",
       "      <th>prompt</th>\n",
       "      <th>text</th>\n",
       "      <th>likelihood</th>\n",
       "      <th>token_likelihoods</th>\n",
       "    </tr>\n",
       "  </thead>\n",
       "  <tbody>\n",
       "    <tr>\n",
       "      <th>0</th>\n",
       "      <td>안녕하</td>\n",
       "      <td>세요! 특별히 주최 출범한 월요일이었습니다.\n",
       "Today we will learn the future tense of '</td>\n",
       "      <td>-1.3193119</td>\n",
       "      <td><span style='background-color:#FFECE2'>��</span><span style='background-color:#FFECE2'>�</span><span style='background-color:#FFC59A'>��</span><span style='background-color:#FFECE2'>�</span><span style='background-color:#FFECE2'>하</span><span style='background-color:#FFECE2'>��</span><span style='background-color:#FFECE2'>�</span><span style='background-color:#FFECE2'>��</span><span style='background-color:#FFECE2'>�</span><span style='background-color:#FFECE2'>!</span><span style='background-color:#FFC59A'> �</span><span style='background-color:#FFD6BC'>�</span><span style='background-color:#FFECE2'>�</span><span style='background-color:#FFECE2'>��</span><span style='background-color:#FFECE2'>�</span><span style='background-color:#FFECE2'>�</span><span style='background-color:#FFECE2'>�</span><span style='background-color:#FFECE2'>�</span><span style='background-color:#FFECE2'> �</span><span style='background-color:#FFECE2'>�</span><span style='background-color:#FFECE2'>�</span><span style='background-color:#FFD6BC'>�</span><span style='background-color:#FFECE2'>�</span><span style='background-color:#FFECE2'>�</span><span style='background-color:#FFD6BC'> �</span><span style='background-color:#FFD6BC'>�</span><span style='background-color:#FFECE2'>�</span><span style='background-color:#FFD6BC'>�</span><span style='background-color:#FFECE2'>�</span><span style='background-color:#FFECE2'>�</span><span style='background-color:#FFD6BC'>한</span><span style='background-color:#FFD6BC'> �</span><span style='background-color:#FFD6BC'>�</span><span style='background-color:#FFECE2'>�</span><span style='background-color:#FFECE2'>��</span><span style='background-color:#FFECE2'>�</span><span style='background-color:#FFECE2'>��</span><span style='background-color:#FFECE2'>�</span><span style='background-color:#FFD6BC'>이</span><span style='background-color:#FFD6BC'>��</span><span style='background-color:#FFECE2'>�</span><span style='background-color:#FFECE2'>��</span><span style='background-color:#FFECE2'>�</span><span style='background-color:#FFECE2'>니다</span><span style='background-color:#FFECE2'>.</span><span style='background-color:#FFECE2'>\n",
       "</span><span style='background-color:#FFC59A'>Today</span><span style='background-color:#FFD6BC'> we</span><span style='background-color:#FFECE2'> will</span></td>\n",
       "    </tr>\n",
       "  </tbody>\n",
       "</table>"
      ],
      "text/plain": [
       "cohere.Generation {\n",
       "\tid: 16d4a585-8dc8-4055-826b-1a7788d3f044\n",
       "\tprompt: 안녕하\n",
       "\ttext: 세요! 특별히 주최 출범한 월요일이었습니다.\n",
       "Today we will learn the future tense of '\n",
       "\tlikelihood: -1.3193119\n",
       "\ttoken_likelihoods: [TokenLikelihood(token='��', likelihood=0), TokenLikelihood(token='�', likelihood=-1.0260196), TokenLikelihood(token='��', likelihood=-4.694756), TokenLikelihood(token='�', likelihood=-0.010236806), TokenLikelihood(token='하', likelihood=-0.45825544), TokenLikelihood(token='��', likelihood=-0.04136034), TokenLikelihood(token='�', likelihood=-7.987054e-06), TokenLikelihood(token='��', likelihood=-0.000905924), TokenLikelihood(token='�', likelihood=-0.00029538464), TokenLikelihood(token='!', likelihood=-1.5057065), TokenLikelihood(token=' �', likelihood=-4.2721953), TokenLikelihood(token='�', likelihood=-2.989478), TokenLikelihood(token='�', likelihood=-0.40349898), TokenLikelihood(token='��', likelihood=-0.58170676), TokenLikelihood(token='�', likelihood=-0.027572278), TokenLikelihood(token='�', likelihood=-0.95736474), TokenLikelihood(token='�', likelihood=-0.010008483), TokenLikelihood(token='�', likelihood=-0.0017585711), TokenLikelihood(token=' �', likelihood=-1.5729629), TokenLikelihood(token='�', likelihood=-1.9963175), TokenLikelihood(token='�', likelihood=-0.0468506), TokenLikelihood(token='�', likelihood=-2.4841828), TokenLikelihood(token='�', likelihood=-0.7036823), TokenLikelihood(token='�', likelihood=-0.0007841084), TokenLikelihood(token=' �', likelihood=-3.1751866), TokenLikelihood(token='�', likelihood=-3.4226203), TokenLikelihood(token='�', likelihood=-0.5854483), TokenLikelihood(token='�', likelihood=-2.7901723), TokenLikelihood(token='�', likelihood=-0.18514854), TokenLikelihood(token='�', likelihood=-0.034355193), TokenLikelihood(token='한', likelihood=-3.4715548), TokenLikelihood(token=' �', likelihood=-2.2717519), TokenLikelihood(token='�', likelihood=-2.3236392), TokenLikelihood(token='�', likelihood=-1.3212863), TokenLikelihood(token='��', likelihood=-0.7745147), TokenLikelihood(token='�', likelihood=-0.0012869769), TokenLikelihood(token='��', likelihood=-0.10474475), TokenLikelihood(token='�', likelihood=-0.002197712), TokenLikelihood(token='이', likelihood=-3.2228353), TokenLikelihood(token='��', likelihood=-3.4224544), TokenLikelihood(token='�', likelihood=-0.45023423), TokenLikelihood(token='��', likelihood=-0.908206), TokenLikelihood(token='�', likelihood=-0.00056288583), TokenLikelihood(token='니다', likelihood=-0.00064232707), TokenLikelihood(token='.', likelihood=-0.31501532), TokenLikelihood(token='\\n', likelihood=-1.0316279), TokenLikelihood(token='Today', likelihood=-5.531699), TokenLikelihood(token=' we', likelihood=-2.262149), TokenLikelihood(token=' will', likelihood=-1.9317324)]\n",
       "}"
      ]
     },
     "execution_count": 12,
     "metadata": {},
     "output_type": "execute_result"
    }
   ],
   "source": [
    "res[0]"
   ]
  },
  {
   "cell_type": "code",
   "execution_count": 20,
   "id": "133c66e5-33e9-4c85-90f3-cb68b25f6320",
   "metadata": {
    "tags": []
   },
   "outputs": [],
   "source": [
    "from datatools.tokenizer import BPTokenizer"
   ]
  },
  {
   "cell_type": "code",
   "execution_count": 22,
   "id": "bda07fca-7731-4aa3-ad1d-4680240555d8",
   "metadata": {
    "tags": []
   },
   "outputs": [
    {
     "data": {
      "text/plain": [
       "[b'\\xef\\xbf\\xbd', b'\\xef\\xbf\\xbd']"
      ]
     },
     "execution_count": 22,
     "metadata": {},
     "output_type": "execute_result"
    }
   ],
   "source": [
    "[t.encode() for t in BPTokenizer().tokenize('안')]"
   ]
  },
  {
   "cell_type": "code",
   "execution_count": 17,
   "id": "3a44f1e3-cdaf-4361-b553-7a8abe7d6495",
   "metadata": {
    "tags": []
   },
   "outputs": [
    {
     "data": {
      "text/html": [
       "<style type=\"text/css\">\n",
       "#T_aec92_row0_col0, #T_aec92_row0_col1, #T_aec92_row0_col2, #T_aec92_row0_col3, #T_aec92_row0_col4, #T_aec92_row0_col5, #T_aec92_row0_col6, #T_aec92_row0_col7, #T_aec92_row0_col8, #T_aec92_row0_col9, #T_aec92_row0_col10, #T_aec92_row0_col11, #T_aec92_row0_col12, #T_aec92_row0_col13, #T_aec92_row0_col14, #T_aec92_row0_col15, #T_aec92_row0_col16, #T_aec92_row0_col17, #T_aec92_row0_col18, #T_aec92_row0_col19, #T_aec92_row0_col20, #T_aec92_row0_col21, #T_aec92_row0_col22, #T_aec92_row0_col23, #T_aec92_row1_col0, #T_aec92_row1_col1, #T_aec92_row1_col2, #T_aec92_row1_col3, #T_aec92_row1_col4, #T_aec92_row1_col5, #T_aec92_row1_col6, #T_aec92_row1_col7, #T_aec92_row1_col8, #T_aec92_row1_col9, #T_aec92_row1_col10, #T_aec92_row1_col11, #T_aec92_row1_col12, #T_aec92_row1_col13, #T_aec92_row1_col14, #T_aec92_row1_col15, #T_aec92_row1_col16, #T_aec92_row1_col17, #T_aec92_row1_col18, #T_aec92_row1_col19, #T_aec92_row1_col20, #T_aec92_row1_col21, #T_aec92_row1_col22, #T_aec92_row1_col23 {\n",
       "  font-size: 90%;\n",
       "}\n",
       "</style>\n",
       "<table id=\"T_aec92\">\n",
       "  <thead>\n",
       "    <tr>\n",
       "      <th class=\"blank level0\" >&nbsp;</th>\n",
       "      <th id=\"T_aec92_level0_col0\" class=\"col_heading level0 col0\" >0</th>\n",
       "      <th id=\"T_aec92_level0_col1\" class=\"col_heading level0 col1\" >1</th>\n",
       "      <th id=\"T_aec92_level0_col2\" class=\"col_heading level0 col2\" >2</th>\n",
       "      <th id=\"T_aec92_level0_col3\" class=\"col_heading level0 col3\" >3</th>\n",
       "      <th id=\"T_aec92_level0_col4\" class=\"col_heading level0 col4\" >4</th>\n",
       "      <th id=\"T_aec92_level0_col5\" class=\"col_heading level0 col5\" >5</th>\n",
       "      <th id=\"T_aec92_level0_col6\" class=\"col_heading level0 col6\" >6</th>\n",
       "      <th id=\"T_aec92_level0_col7\" class=\"col_heading level0 col7\" >7</th>\n",
       "      <th id=\"T_aec92_level0_col8\" class=\"col_heading level0 col8\" >8</th>\n",
       "      <th id=\"T_aec92_level0_col9\" class=\"col_heading level0 col9\" >9</th>\n",
       "      <th id=\"T_aec92_level0_col10\" class=\"col_heading level0 col10\" >10</th>\n",
       "      <th id=\"T_aec92_level0_col11\" class=\"col_heading level0 col11\" >11</th>\n",
       "      <th id=\"T_aec92_level0_col12\" class=\"col_heading level0 col12\" >12</th>\n",
       "      <th id=\"T_aec92_level0_col13\" class=\"col_heading level0 col13\" >13</th>\n",
       "      <th id=\"T_aec92_level0_col14\" class=\"col_heading level0 col14\" >14</th>\n",
       "      <th id=\"T_aec92_level0_col15\" class=\"col_heading level0 col15\" >15</th>\n",
       "      <th id=\"T_aec92_level0_col16\" class=\"col_heading level0 col16\" >16</th>\n",
       "      <th id=\"T_aec92_level0_col17\" class=\"col_heading level0 col17\" >17</th>\n",
       "      <th id=\"T_aec92_level0_col18\" class=\"col_heading level0 col18\" >18</th>\n",
       "      <th id=\"T_aec92_level0_col19\" class=\"col_heading level0 col19\" >19</th>\n",
       "      <th id=\"T_aec92_level0_col20\" class=\"col_heading level0 col20\" >20</th>\n",
       "      <th id=\"T_aec92_level0_col21\" class=\"col_heading level0 col21\" >21</th>\n",
       "      <th id=\"T_aec92_level0_col22\" class=\"col_heading level0 col22\" >22</th>\n",
       "      <th id=\"T_aec92_level0_col23\" class=\"col_heading level0 col23\" >23</th>\n",
       "    </tr>\n",
       "  </thead>\n",
       "  <tbody>\n",
       "    <tr>\n",
       "      <th id=\"T_aec92_level0_row0\" class=\"row_heading level0 row0\" >token_strings</th>\n",
       "      <td id=\"T_aec92_row0_col0\" class=\"data row0 col0\" >��</td>\n",
       "      <td id=\"T_aec92_row0_col1\" class=\"data row0 col1\" >�</td>\n",
       "      <td id=\"T_aec92_row0_col2\" class=\"data row0 col2\" >��</td>\n",
       "      <td id=\"T_aec92_row0_col3\" class=\"data row0 col3\" >�</td>\n",
       "      <td id=\"T_aec92_row0_col4\" class=\"data row0 col4\" >하</td>\n",
       "      <td id=\"T_aec92_row0_col5\" class=\"data row0 col5\" >��</td>\n",
       "      <td id=\"T_aec92_row0_col6\" class=\"data row0 col6\" >�</td>\n",
       "      <td id=\"T_aec92_row0_col7\" class=\"data row0 col7\" >��</td>\n",
       "      <td id=\"T_aec92_row0_col8\" class=\"data row0 col8\" >�</td>\n",
       "      <td id=\"T_aec92_row0_col9\" class=\"data row0 col9\" >!</td>\n",
       "      <td id=\"T_aec92_row0_col10\" class=\"data row0 col10\" > �</td>\n",
       "      <td id=\"T_aec92_row0_col11\" class=\"data row0 col11\" >�</td>\n",
       "      <td id=\"T_aec92_row0_col12\" class=\"data row0 col12\" >�</td>\n",
       "      <td id=\"T_aec92_row0_col13\" class=\"data row0 col13\" >��</td>\n",
       "      <td id=\"T_aec92_row0_col14\" class=\"data row0 col14\" >�</td>\n",
       "      <td id=\"T_aec92_row0_col15\" class=\"data row0 col15\" >�</td>\n",
       "      <td id=\"T_aec92_row0_col16\" class=\"data row0 col16\" >�</td>\n",
       "      <td id=\"T_aec92_row0_col17\" class=\"data row0 col17\" >�</td>\n",
       "      <td id=\"T_aec92_row0_col18\" class=\"data row0 col18\" > �</td>\n",
       "      <td id=\"T_aec92_row0_col19\" class=\"data row0 col19\" >�</td>\n",
       "      <td id=\"T_aec92_row0_col20\" class=\"data row0 col20\" >�</td>\n",
       "      <td id=\"T_aec92_row0_col21\" class=\"data row0 col21\" >�</td>\n",
       "      <td id=\"T_aec92_row0_col22\" class=\"data row0 col22\" >�</td>\n",
       "      <td id=\"T_aec92_row0_col23\" class=\"data row0 col23\" >�</td>\n",
       "    </tr>\n",
       "    <tr>\n",
       "      <th id=\"T_aec92_level0_row1\" class=\"row_heading level0 row1\" >tokens</th>\n",
       "      <td id=\"T_aec92_row1_col0\" class=\"data row1 col0\" >24385</td>\n",
       "      <td id=\"T_aec92_row1_col1\" class=\"data row1 col1\" >137</td>\n",
       "      <td id=\"T_aec92_row1_col2\" class=\"data row1 col2\" >49914</td>\n",
       "      <td id=\"T_aec92_row1_col3\" class=\"data row1 col3\" >150</td>\n",
       "      <td id=\"T_aec92_row1_col4\" class=\"data row1 col4\" >23216</td>\n",
       "      <td id=\"T_aec92_row1_col5\" class=\"data row1 col5\" >23005</td>\n",
       "      <td id=\"T_aec92_row1_col6\" class=\"data row1 col6\" >185</td>\n",
       "      <td id=\"T_aec92_row1_col7\" class=\"data row1 col7\" >28070</td>\n",
       "      <td id=\"T_aec92_row1_col8\" class=\"data row1 col8\" >149</td>\n",
       "      <td id=\"T_aec92_row1_col9\" class=\"data row1 col9\" >34</td>\n",
       "      <td id=\"T_aec92_row1_col10\" class=\"data row1 col10\" >18595</td>\n",
       "      <td id=\"T_aec92_row1_col11\" class=\"data row1 col11\" >139</td>\n",
       "      <td id=\"T_aec92_row1_col12\" class=\"data row1 col12\" >186</td>\n",
       "      <td id=\"T_aec92_row1_col13\" class=\"data row1 col13\" >48681</td>\n",
       "      <td id=\"T_aec92_row1_col14\" class=\"data row1 col14\" >133</td>\n",
       "      <td id=\"T_aec92_row1_col15\" class=\"data row1 col15\" >238</td>\n",
       "      <td id=\"T_aec92_row1_col16\" class=\"data row1 col16\" >159</td>\n",
       "      <td id=\"T_aec92_row1_col17\" class=\"data row1 col17\" >137</td>\n",
       "      <td id=\"T_aec92_row1_col18\" class=\"data row1 col18\" >5094</td>\n",
       "      <td id=\"T_aec92_row1_col19\" class=\"data row1 col19\" >164</td>\n",
       "      <td id=\"T_aec92_row1_col20\" class=\"data row1 col20\" >189</td>\n",
       "      <td id=\"T_aec92_row1_col21\" class=\"data row1 col21\" >237</td>\n",
       "      <td id=\"T_aec92_row1_col22\" class=\"data row1 col22\" >182</td>\n",
       "      <td id=\"T_aec92_row1_col23\" class=\"data row1 col23\" >157</td>\n",
       "    </tr>\n",
       "  </tbody>\n",
       "</table>\n"
      ],
      "text/plain": [
       "cohere.Tokens {\n",
       "\ttokens: [24385, 137, 49914, 150, 23216, 23005, 185, 28070, 149, 34, 18595, 139, 186, 48681, 133, 238, 159, 137, 5094, 164, 189, 237, 182, 157]\n",
       "\ttoken_strings: ['��', '�', '��', '�', '하', '��', '�', '��', '�', '!', ' �', '�', '�', '��', '�', '�', '�', '�', ' �', '�', '�', '�', '�', '�']\n",
       "}"
      ]
     },
     "execution_count": 17,
     "metadata": {},
     "output_type": "execute_result"
    }
   ],
   "source": [
    "co.tokenize('안녕하세요! 특별히 주최')"
   ]
  },
  {
   "cell_type": "code",
   "execution_count": 18,
   "id": "376e5acc-07b9-4f69-a1e4-240b0449b82c",
   "metadata": {
    "tags": []
   },
   "outputs": [
    {
     "data": {
      "text/plain": [
       "b'\\xec\\x95\\x88'"
      ]
     },
     "execution_count": 18,
     "metadata": {},
     "output_type": "execute_result"
    }
   ],
   "source": [
    "'안'.encode()"
   ]
  },
  {
   "cell_type": "code",
   "execution_count": 19,
   "id": "71767b10-440a-425a-b501-ddfa661597cc",
   "metadata": {
    "tags": []
   },
   "outputs": [
    {
     "data": {
      "text/plain": [
       "b'\\xef\\xbf\\xbd\\xef\\xbf\\xbd\\xef\\xbf\\xbd'"
      ]
     },
     "execution_count": 19,
     "metadata": {},
     "output_type": "execute_result"
    }
   ],
   "source": [
    "'���'.encode()"
   ]
  },
  {
   "cell_type": "code",
   "execution_count": null,
   "id": "26fa4230-4e90-4ca7-bf36-ed834182d314",
   "metadata": {},
   "outputs": [],
   "source": []
  }
 ],
 "metadata": {
  "kernelspec": {
   "display_name": "Python 3 (ipykernel)",
   "language": "python",
   "name": "python3"
  },
  "language_info": {
   "codemirror_mode": {
    "name": "ipython",
    "version": 3
   },
   "file_extension": ".py",
   "mimetype": "text/x-python",
   "name": "python",
   "nbconvert_exporter": "python",
   "pygments_lexer": "ipython3",
   "version": "3.9.6"
  }
 },
 "nbformat": 4,
 "nbformat_minor": 5
}

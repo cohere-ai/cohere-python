{
 "cells": [
  {
   "cell_type": "code",
   "execution_count": 1,
   "id": "cef99a2c-02dc-49a3-aaea-392ab5b8d34f",
   "metadata": {},
   "outputs": [],
   "source": [
    "import asyncio\n",
    "import sys\n",
    "\n",
    "sys.path.append(\"..\")  # make sure we can run this from the repo\n",
    "\n",
    "import cohere\n",
    "from cohere.logging import log_debug\n",
    "\n",
    "# log_debug() # This will show all requests and outputs with timings"
   ]
  },
  {
   "cell_type": "code",
   "execution_count": 2,
   "id": "a0c33e31-12fb-4439-ab25-2a07e47dd9ac",
   "metadata": {},
   "outputs": [
    {
     "data": {
      "text/plain": [
       "{'valid': True}"
      ]
     },
     "execution_count": 2,
     "metadata": {},
     "output_type": "execute_result"
    }
   ],
   "source": [
    "co = cohere.AsyncClient()\n",
    "await co.check_api_key()"
   ]
  },
  {
   "cell_type": "markdown",
   "id": "29a28feb-1453-4a42-bf23-7b1ff60ec368",
   "metadata": {},
   "source": [
    "# Generate"
   ]
  },
  {
   "cell_type": "code",
   "execution_count": 3,
   "id": "ae30f5f3-d644-4893-9657-871d68028cc9",
   "metadata": {},
   "outputs": [
    {
     "data": {
      "text/html": [
       "<table border=\"1\" class=\"dataframe\">\n",
       "  <thead>\n",
       "    <tr style=\"text-align: right;\">\n",
       "      <th></th>\n",
       "      <th>prompt</th>\n",
       "      <th>text</th>\n",
       "      <th>likelihood</th>\n",
       "      <th>token_likelihoods</th>\n",
       "    </tr>\n",
       "  </thead>\n",
       "  <tbody>\n",
       "    <tr>\n",
       "      <th>0</th>\n",
       "      <td>Hello, how</td>\n",
       "      <td>can I help you?\"\n",
       "\n",
       "\"I'm</td>\n",
       "      <td>-0.892087</td>\n",
       "      <td><span style='background-color:#FFD6BC'> can</span><span style='background-color:#FFECE2'> I</span><span style='background-color:#FFECE2'> help</span><span style='background-color:#FFECE2'> you</span><span style='background-color:#FFECE2'>?\"</span><span style='background-color:#FFECE2'>\n",
       "</span><span style='background-color:#FFECE2'>\n",
       "</span><span style='background-color:#FFECE2'>\"</span><span style='background-color:#FFECE2'>I</span><span style='background-color:#FFECE2'>'m</span></td>\n",
       "    </tr>\n",
       "    <tr>\n",
       "      <th>1</th>\n",
       "      <td>Hello, how</td>\n",
       "      <td>are you?_ She had said _Yes,</td>\n",
       "      <td>-2.639373</td>\n",
       "      <td><span style='background-color:#FFECE2'> are</span><span style='background-color:#FFECE2'> you</span><span style='background-color:#FFECE2'>?</span><span style='background-color:#FFC59A'>_</span><span style='background-color:#FFC59A'> She</span><span style='background-color:#FFD6BC'> had</span><span style='background-color:#FFD6BC'> said</span><span style='background-color:#FFD6BC'> _</span><span style='background-color:#FFC59A'>Yes</span><span style='background-color:#FFECE2'>,</span></td>\n",
       "    </tr>\n",
       "    <tr>\n",
       "      <th>2</th>\n",
       "      <td>Hello, how</td>\n",
       "      <td>are you?\" to a man who looks just like</td>\n",
       "      <td>-2.1367695</td>\n",
       "      <td><span style='background-color:#FFECE2'> are</span><span style='background-color:#FFECE2'> you</span><span style='background-color:#FFECE2'>?\"</span><span style='background-color:#FFD6BC'> to</span><span style='background-color:#FFD6BC'> a</span><span style='background-color:#FFC59A'> man</span><span style='background-color:#FFECE2'> who</span><span style='background-color:#FFD6BC'> looks</span><span style='background-color:#FFC59A'> just</span><span style='background-color:#FFECE2'> like</span></td>\n",
       "    </tr>\n",
       "    <tr>\n",
       "      <th>3</th>\n",
       "      <td>Hello, how</td>\n",
       "      <td>are you?' and 'Hello, how are you</td>\n",
       "      <td>-1.356009</td>\n",
       "      <td><span style='background-color:#FFECE2'> are</span><span style='background-color:#FFECE2'> you</span><span style='background-color:#FFD6BC'>?'</span><span style='background-color:#FFD6BC'> and</span><span style='background-color:#FFD6BC'> '</span><span style='background-color:#FFD6BC'>Hello</span><span style='background-color:#FFECE2'>,</span><span style='background-color:#FFECE2'> how</span><span style='background-color:#FFECE2'> are</span><span style='background-color:#FFECE2'> you</span></td>\n",
       "    </tr>\n",
       "    <tr>\n",
       "      <th>4</th>\n",
       "      <td>Hello, how</td>\n",
       "      <td>can I help you?\"\n",
       "\n",
       "\"I'm</td>\n",
       "      <td>-0.8926417</td>\n",
       "      <td><span style='background-color:#FFD6BC'> can</span><span style='background-color:#FFECE2'> I</span><span style='background-color:#FFECE2'> help</span><span style='background-color:#FFECE2'> you</span><span style='background-color:#FFECE2'>?\"</span><span style='background-color:#FFECE2'>\n",
       "</span><span style='background-color:#FFECE2'>\n",
       "</span><span style='background-color:#FFECE2'>\"</span><span style='background-color:#FFECE2'>I</span><span style='background-color:#FFECE2'>'m</span></td>\n",
       "    </tr>\n",
       "  </tbody>\n",
       "</table>"
      ],
      "text/plain": [
       "Generations([cohere.Generation {\n",
       "             \tid: 5c4a641c-d6ed-41d6-ba30-50930f544dfa\n",
       "             \tprompt: Hello, how\n",
       "             \ttext:  can I help you?\"\n",
       "             \n",
       "             \"I'm\n",
       "             \tlikelihood: -0.892087\n",
       "             \ttoken_likelihoods: [TokenLikelihood(token=' can', likelihood=-2.105305), TokenLikelihood(token=' I', likelihood=-0.37158567), TokenLikelihood(token=' help', likelihood=-1.4787441), TokenLikelihood(token=' you', likelihood=-0.19473612), TokenLikelihood(token='?\"', likelihood=-0.5717382), TokenLikelihood(token='\\n', likelihood=-0.9228499), TokenLikelihood(token='\\n', likelihood=-0.22990112), TokenLikelihood(token='\"', likelihood=-0.48223752), TokenLikelihood(token='I', likelihood=-1.3294024), TokenLikelihood(token=\"'m\", likelihood=-1.2343699)]\n",
       "             },\n",
       "             cohere.Generation {\n",
       "             \tid: d4c77cd9-b4b4-4330-9f7c-3e6329f9aabd\n",
       "             \tprompt: Hello, how\n",
       "             \ttext:  are you?_ She had said _Yes,\n",
       "             \tlikelihood: -2.639373\n",
       "             \ttoken_likelihoods: [TokenLikelihood(token=' are', likelihood=-0.6264241), TokenLikelihood(token=' you', likelihood=-0.029874241), TokenLikelihood(token='?', likelihood=-1.403268), TokenLikelihood(token='_', likelihood=-4.3615766), TokenLikelihood(token=' She', likelihood=-4.4228363), TokenLikelihood(token=' had', likelihood=-3.0495346), TokenLikelihood(token=' said', likelihood=-3.9177933), TokenLikelihood(token=' _', likelihood=-3.0741982), TokenLikelihood(token='Yes', likelihood=-5.0923843), TokenLikelihood(token=',', likelihood=-0.41584274)]\n",
       "             },\n",
       "             cohere.Generation {\n",
       "             \tid: a912c2e7-8908-401b-9f34-12c64ddad3d5\n",
       "             \tprompt: Hello, how\n",
       "             \ttext:  are you?\" to a man who looks just like\n",
       "             \tlikelihood: -2.1367695\n",
       "             \ttoken_likelihoods: [TokenLikelihood(token=' are', likelihood=-0.62863064), TokenLikelihood(token=' you', likelihood=-0.030065127), TokenLikelihood(token='?\"', likelihood=-1.0595362), TokenLikelihood(token=' to', likelihood=-3.8841505), TokenLikelihood(token=' a', likelihood=-2.3689785), TokenLikelihood(token=' man', likelihood=-4.0343485), TokenLikelihood(token=' who', likelihood=-1.608604), TokenLikelihood(token=' looks', likelihood=-3.5799727), TokenLikelihood(token=' just', likelihood=-4.043667), TokenLikelihood(token=' like', likelihood=-0.12974173)]\n",
       "             },\n",
       "             cohere.Generation {\n",
       "             \tid: 5875628a-3777-41e0-87d7-e2f76b85af8d\n",
       "             \tprompt: Hello, how\n",
       "             \ttext:  are you?' and 'Hello, how are you\n",
       "             \tlikelihood: -1.356009\n",
       "             \ttoken_likelihoods: [TokenLikelihood(token=' are', likelihood=-0.6268873), TokenLikelihood(token=' you', likelihood=-0.029889042), TokenLikelihood(token=\"?'\", likelihood=-2.8646238), TokenLikelihood(token=' and', likelihood=-2.2670243), TokenLikelihood(token=\" '\", likelihood=-2.5025408), TokenLikelihood(token='Hello', likelihood=-3.7959108), TokenLikelihood(token=',', likelihood=-0.22874564), TokenLikelihood(token=' how', likelihood=-0.92763644), TokenLikelihood(token=' are', likelihood=-0.24946746), TokenLikelihood(token=' you', likelihood=-0.06736443)]\n",
       "             },\n",
       "             cohere.Generation {\n",
       "             \tid: e396b26a-67a6-4c29-b2ca-99b5bea91cae\n",
       "             \tprompt: Hello, how\n",
       "             \ttext:  can I help you?\"\n",
       "             \n",
       "             \"I'm\n",
       "             \tlikelihood: -0.8926417\n",
       "             \ttoken_likelihoods: [TokenLikelihood(token=' can', likelihood=-2.1047268), TokenLikelihood(token=' I', likelihood=-0.37098923), TokenLikelihood(token=' help', likelihood=-1.484968), TokenLikelihood(token=' you', likelihood=-0.19439965), TokenLikelihood(token='?\"', likelihood=-0.57143563), TokenLikelihood(token='\\n', likelihood=-0.92141867), TokenLikelihood(token='\\n', likelihood=-0.23115782), TokenLikelihood(token='\"', likelihood=-0.48208576), TokenLikelihood(token='I', likelihood=-1.3308055), TokenLikelihood(token=\"'m\", likelihood=-1.2344304)]\n",
       "             }])"
      ]
     },
     "execution_count": 3,
     "metadata": {},
     "output_type": "execute_result"
    }
   ],
   "source": [
    "# The prompt, generated text, likelihoods and token likelihoods are shown in a rich HTML output\n",
    "gen5 = await co.generate(prompt=\"Hello, how\", max_tokens=10, num_generations=5, return_likelihoods=\"GENERATION\")\n",
    "gen5"
   ]
  },
  {
   "cell_type": "code",
   "execution_count": 4,
   "id": "68961900-d6a6-4b3d-9039-57ffbaa551e4",
   "metadata": {},
   "outputs": [
    {
     "data": {
      "text/plain": [
       "' can I help you?\"\\n\\n\"I\\'m'"
      ]
     },
     "execution_count": 4,
     "metadata": {},
     "output_type": "execute_result"
    }
   ],
   "source": [
    "# These visualizations are only for jupyter notebook output and do not interfere with using the objects\n",
    "gen5[0].text"
   ]
  },
  {
   "cell_type": "markdown",
   "id": "05b6d54c-1176-414e-bdfb-cad1a1c58b04",
   "metadata": {},
   "source": [
    "## Tokenize\n",
    "The tokenize function also has rich HTML output"
   ]
  },
  {
   "cell_type": "code",
   "execution_count": 5,
   "id": "76335406-79f5-4460-8381-c787cc9fd87b",
   "metadata": {},
   "outputs": [
    {
     "data": {
      "text/html": [
       "<style type=\"text/css\">\n",
       "#T_3f766_row0_col0, #T_3f766_row0_col1, #T_3f766_row0_col2, #T_3f766_row1_col0, #T_3f766_row1_col1, #T_3f766_row1_col2 {\n",
       "  font-size: 90%;\n",
       "}\n",
       "</style>\n",
       "<table id=\"T_3f766\">\n",
       "  <thead>\n",
       "    <tr>\n",
       "      <th class=\"blank level0\" >&nbsp;</th>\n",
       "      <th id=\"T_3f766_level0_col0\" class=\"col_heading level0 col0\" >0</th>\n",
       "      <th id=\"T_3f766_level0_col1\" class=\"col_heading level0 col1\" >1</th>\n",
       "      <th id=\"T_3f766_level0_col2\" class=\"col_heading level0 col2\" >2</th>\n",
       "    </tr>\n",
       "  </thead>\n",
       "  <tbody>\n",
       "    <tr>\n",
       "      <th id=\"T_3f766_level0_row0\" class=\"row_heading level0 row0\" >token_strings</th>\n",
       "      <td id=\"T_3f766_row0_col0\" class=\"data row0 col0\" >one</td>\n",
       "      <td id=\"T_3f766_row0_col1\" class=\"data row0 col1\" > two</td>\n",
       "      <td id=\"T_3f766_row0_col2\" class=\"data row0 col2\" > three</td>\n",
       "    </tr>\n",
       "    <tr>\n",
       "      <th id=\"T_3f766_level0_row1\" class=\"row_heading level0 row1\" >tokens</th>\n",
       "      <td id=\"T_3f766_row1_col0\" class=\"data row1 col0\" >528</td>\n",
       "      <td id=\"T_3f766_row1_col1\" class=\"data row1 col1\" >923</td>\n",
       "      <td id=\"T_3f766_row1_col2\" class=\"data row1 col2\" >1484</td>\n",
       "    </tr>\n",
       "  </tbody>\n",
       "</table>\n"
      ],
      "text/plain": [
       "cohere.Tokens {\n",
       "\ttokens: [528, 923, 1484]\n",
       "\ttoken_strings: ['one', ' two', ' three']\n",
       "}"
      ]
     },
     "execution_count": 5,
     "metadata": {},
     "output_type": "execute_result"
    }
   ],
   "source": [
    "await co.tokenize(\"one two three\")"
   ]
  },
  {
   "cell_type": "markdown",
   "id": "439995c1-7a19-42ee-ae68-ead7fe15db01",
   "metadata": {},
   "source": [
    "# Sync Client\n",
    "These visualizations work for both clients"
   ]
  },
  {
   "cell_type": "code",
   "execution_count": 6,
   "id": "526f5921-c11d-4909-b29a-0dc42e0717ac",
   "metadata": {},
   "outputs": [
    {
     "data": {
      "text/html": [
       "<table border=\"1\" class=\"dataframe\">\n",
       "  <thead>\n",
       "    <tr style=\"text-align: right;\">\n",
       "      <th></th>\n",
       "      <th>prompt</th>\n",
       "      <th>text</th>\n",
       "    </tr>\n",
       "  </thead>\n",
       "  <tbody>\n",
       "    <tr>\n",
       "      <th>0</th>\n",
       "      <td>co:here</td>\n",
       "      <td>,\n",
       "\n",
       "xm</td>\n",
       "    </tr>\n",
       "  </tbody>\n",
       "</table>"
      ],
      "text/plain": [
       "Generations([cohere.Generation {\n",
       "             \tid: 41df977b-4de5-4e0e-af97-34e411a78d95\n",
       "             \tprompt: co:here\n",
       "             \ttext: ,\n",
       "             \n",
       "             xm\n",
       "             \tlikelihood: None\n",
       "             \ttoken_likelihoods: None\n",
       "             }])"
      ]
     },
     "execution_count": 6,
     "metadata": {},
     "output_type": "execute_result"
    }
   ],
   "source": [
    "co_sync = cohere.Client()\n",
    "co_sync.generate(prompt=\"co:here\", max_tokens=5, num_generations=1)"
   ]
  },
  {
   "cell_type": "code",
   "execution_count": null,
   "id": "ced1888f-2208-48a1-9aaa-e7f98554dbb9",
   "metadata": {},
   "outputs": [],
   "source": []
  }
 ],
 "metadata": {
  "kernelspec": {
   "display_name": "Python 3 (ipykernel)",
   "language": "python",
   "name": "python3"
  },
  "language_info": {
   "codemirror_mode": {
    "name": "ipython",
    "version": 3
   },
   "file_extension": ".py",
   "mimetype": "text/x-python",
   "name": "python",
   "nbconvert_exporter": "python",
   "pygments_lexer": "ipython3",
   "version": "3.9.6"
  }
 },
 "nbformat": 4,
 "nbformat_minor": 5
}

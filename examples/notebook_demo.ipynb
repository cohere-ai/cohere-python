{
 "cells": [
  {
   "cell_type": "code",
   "execution_count": 1,
   "id": "cef99a2c-02dc-49a3-aaea-392ab5b8d34f",
   "metadata": {},
   "outputs": [],
   "source": [
    "import asyncio\n",
    "import sys\n",
    "\n",
    "sys.path.append(\"..\")  # make sure we can run this from the repo\n",
    "\n",
    "import cohere\n",
    "from cohere.logging import log_debug\n",
    "\n",
    "# log_debug() # This will show all requests and outputs with timings"
   ]
  },
  {
   "cell_type": "code",
   "execution_count": 2,
   "id": "a0c33e31-12fb-4439-ab25-2a07e47dd9ac",
   "metadata": {},
   "outputs": [
    {
     "data": {
      "text/plain": [
       "{'valid': True}"
      ]
     },
     "execution_count": 2,
     "metadata": {},
     "output_type": "execute_result"
    }
   ],
   "source": [
    "co = cohere.AsyncClient()\n",
    "await co.check_api_key()"
   ]
  },
  {
   "cell_type": "markdown",
   "id": "29a28feb-1453-4a42-bf23-7b1ff60ec368",
   "metadata": {},
   "source": [
    "# Generate"
   ]
  },
  {
   "cell_type": "code",
   "execution_count": 9,
   "id": "ae30f5f3-d644-4893-9657-871d68028cc9",
   "metadata": {},
   "outputs": [
    {
     "data": {
      "text/html": [
       "<table border=\"1\" class=\"dataframe\">\n",
       "  <thead>\n",
       "    <tr style=\"text-align: right;\">\n",
       "      <th></th>\n",
       "      <th>prompt</th>\n",
       "      <th>text</th>\n",
       "      <th>likelihood</th>\n",
       "      <th>token_likelihoods</th>\n",
       "    </tr>\n",
       "  </thead>\n",
       "  <tbody>\n",
       "    <tr>\n",
       "      <th>0</th>\n",
       "      <td>Hello, how</td>\n",
       "      <td>can I contact a real person? I was in</td>\n",
       "      <td>-2.3962293</td>\n",
       "      <td><span style='background-color:#FFD6BC'> can</span><span style='background-color:#FFECE2'> I</span><span style='background-color:#FFD6BC'> contact</span><span style='background-color:#FFD6BC'> a</span><span style='background-color:#FFD6BC'> real</span><span style='background-color:#FFECE2'> person</span><span style='background-color:#FFECE2'>?</span><span style='background-color:#FFECE2'> I</span><span style='background-color:#FFC59A'> was</span><span style='background-color:#FFD6BC'> in</span></td>\n",
       "    </tr>\n",
       "    <tr>\n",
       "      <th>1</th>\n",
       "      <td>Hello, how</td>\n",
       "      <td>are you today?\n",
       "A: I'm fine</td>\n",
       "      <td>-1.4848989</td>\n",
       "      <td><span style='background-color:#FFECE2'> are</span><span style='background-color:#FFECE2'> you</span><span style='background-color:#FFD6BC'> today</span><span style='background-color:#FFECE2'>?</span><span style='background-color:#FFECE2'>\n",
       "</span><span style='background-color:#FFC59A'>A</span><span style='background-color:#FFECE2'>:</span><span style='background-color:#FFECE2'> I</span><span style='background-color:#FFECE2'>'m</span><span style='background-color:#FFECE2'> fine</span></td>\n",
       "    </tr>\n",
       "    <tr>\n",
       "      <th>2</th>\n",
       "      <td>Hello, how</td>\n",
       "      <td>are you?\", \"We are good\", \"</td>\n",
       "      <td>-1.872109</td>\n",
       "      <td><span style='background-color:#FFECE2'> are</span><span style='background-color:#FFECE2'> you</span><span style='background-color:#FFECE2'>?</span><span style='background-color:#FFD6BC'>\",</span><span style='background-color:#FFECE2'> \"</span><span style='background-color:#FFC59A'>We</span><span style='background-color:#FFECE2'> are</span><span style='background-color:#FFD6BC'> good</span><span style='background-color:#FFD6BC'>\",</span><span style='background-color:#FFECE2'> \"</span></td>\n",
       "    </tr>\n",
       "    <tr>\n",
       "      <th>3</th>\n",
       "      <td>Hello, how</td>\n",
       "      <td>can i get a refund for that code ?</td>\n",
       "      <td>-2.8728309</td>\n",
       "      <td><span style='background-color:#FFD6BC'> can</span><span style='background-color:#FFECE2'> i</span><span style='background-color:#FFD6BC'> get</span><span style='background-color:#FFD6BC'> a</span><span style='background-color:#FFC59A'> refund</span><span style='background-color:#FFECE2'> for</span><span style='background-color:#FFC59A'> that</span><span style='background-color:#FFB471'> code</span><span style='background-color:#FFD6BC'> ?</span><span style='background-color:#FFECE2'>\n",
       "</span></td>\n",
       "    </tr>\n",
       "    <tr>\n",
       "      <th>4</th>\n",
       "      <td>Hello, how</td>\n",
       "      <td>are you? It is important that you feel safe</td>\n",
       "      <td>-2.0127742</td>\n",
       "      <td><span style='background-color:#FFECE2'> are</span><span style='background-color:#FFECE2'> you</span><span style='background-color:#FFECE2'>?</span><span style='background-color:#FFD6BC'> It</span><span style='background-color:#FFD6BC'> is</span><span style='background-color:#FFC59A'> important</span><span style='background-color:#FFECE2'> that</span><span style='background-color:#FFECE2'> you</span><span style='background-color:#FFD6BC'> feel</span><span style='background-color:#FFD6BC'> safe</span></td>\n",
       "    </tr>\n",
       "  </tbody>\n",
       "</table>"
      ],
      "text/plain": [
       "cohere.Generations {\n",
       "\tid: None\n",
       "\treturn_likelihoods: GENERATION\n",
       "\tgenerations: [cohere.Generation {\n",
       "\tid: 12109ba2-a465-4457-9119-17df9dc0a25f\n",
       "\tprompt: Hello, how\n",
       "\ttext:  can I contact a real person? I was in\n",
       "\tlikelihood: -2.3962293\n",
       "\ttoken_likelihoods: [TokenLikelihood(token=' can', likelihood=-2.105305), TokenLikelihood(token=' I', likelihood=-0.37158567), TokenLikelihood(token=' contact', likelihood=-3.685058), TokenLikelihood(token=' a', likelihood=-3.7404778), TokenLikelihood(token=' real', likelihood=-3.1759183), TokenLikelihood(token=' person', likelihood=-0.38356817), TokenLikelihood(token='?', likelihood=-1.5960546), TokenLikelihood(token=' I', likelihood=-0.98306614), TokenLikelihood(token=' was', likelihood=-4.118546), TokenLikelihood(token=' in', likelihood=-3.8027139)]\n",
       "}, cohere.Generation {\n",
       "\tid: dd0dfc8c-2912-4543-9f26-a8f6e3758b3a\n",
       "\tprompt: Hello, how\n",
       "\ttext:  are you today?\n",
       "A: I'm fine\n",
       "\tlikelihood: -1.4848989\n",
       "\ttoken_likelihoods: [TokenLikelihood(token=' are', likelihood=-0.6264241), TokenLikelihood(token=' you', likelihood=-0.029874241), TokenLikelihood(token=' today', likelihood=-2.7311106), TokenLikelihood(token='?', likelihood=-0.7654126), TokenLikelihood(token='\\n', likelihood=-1.9182937), TokenLikelihood(token='A', likelihood=-4.6912007), TokenLikelihood(token=':', likelihood=-1.1062148), TokenLikelihood(token=' I', likelihood=-1.5464745), TokenLikelihood(token=\"'m\", likelihood=-0.60637367), TokenLikelihood(token=' fine', likelihood=-0.82761145)]\n",
       "}, cohere.Generation {\n",
       "\tid: 6e5589ba-db70-499b-97ea-e0b1d42d8dda\n",
       "\tprompt: Hello, how\n",
       "\ttext:  are you?\", \"We are good\", \"\n",
       "\tlikelihood: -1.872109\n",
       "\ttoken_likelihoods: [TokenLikelihood(token=' are', likelihood=-0.62863064), TokenLikelihood(token=' you', likelihood=-0.030065127), TokenLikelihood(token='?', likelihood=-1.3902934), TokenLikelihood(token='\",', likelihood=-3.7730095), TokenLikelihood(token=' \"', likelihood=-1.4520309), TokenLikelihood(token='We', likelihood=-4.6193385), TokenLikelihood(token=' are', likelihood=-1.3281716), TokenLikelihood(token=' good', likelihood=-2.734723), TokenLikelihood(token='\",', likelihood=-2.3576431), TokenLikelihood(token=' \"', likelihood=-0.4071846)]\n",
       "}, cohere.Generation {\n",
       "\tid: 95f6e493-f7b0-413a-b218-3c8e54b07d83\n",
       "\tprompt: Hello, how\n",
       "\ttext:  can i get a refund for that code ?\n",
       "\n",
       "\tlikelihood: -2.8728309\n",
       "\ttoken_likelihoods: [TokenLikelihood(token=' can', likelihood=-2.1047392), TokenLikelihood(token=' i', likelihood=-1.9848729), TokenLikelihood(token=' get', likelihood=-2.1954775), TokenLikelihood(token=' a', likelihood=-2.1419525), TokenLikelihood(token=' refund', likelihood=-4.4411125), TokenLikelihood(token=' for', likelihood=-1.1667254), TokenLikelihood(token=' that', likelihood=-4.7652225), TokenLikelihood(token=' code', likelihood=-6.544626), TokenLikelihood(token=' ?', likelihood=-2.7164476), TokenLikelihood(token='\\n', likelihood=-0.66713333)]\n",
       "}, cohere.Generation {\n",
       "\tid: b6f417ac-19a6-422f-8a10-df1eba2064a9\n",
       "\tprompt: Hello, how\n",
       "\ttext:  are you? It is important that you feel safe\n",
       "\tlikelihood: -2.0127742\n",
       "\ttoken_likelihoods: [TokenLikelihood(token=' are', likelihood=-0.62808037), TokenLikelihood(token=' you', likelihood=-0.029964091), TokenLikelihood(token='?', likelihood=-1.4055463), TokenLikelihood(token=' It', likelihood=-3.6762166), TokenLikelihood(token=' is', likelihood=-2.1061661), TokenLikelihood(token=' important', likelihood=-5.3896413), TokenLikelihood(token=' that', likelihood=-1.4591434), TokenLikelihood(token=' you', likelihood=-0.5762784), TokenLikelihood(token=' feel', likelihood=-2.2751412), TokenLikelihood(token=' safe', likelihood=-2.5815647)]\n",
       "}]\n",
       "}"
      ]
     },
     "execution_count": 9,
     "metadata": {},
     "output_type": "execute_result"
    }
   ],
   "source": [
    "# The prompt, generated text, likelihoods and token likelihoods are shown in a rich HTML output\n",
    "gen5 = await co.generate(prompt=\"Hello, how\", max_tokens=10, num_generations=5, return_likelihoods=\"GENERATION\")\n",
    "gen5"
   ]
  },
  {
   "cell_type": "code",
   "execution_count": 4,
   "id": "68961900-d6a6-4b3d-9039-57ffbaa551e4",
   "metadata": {},
   "outputs": [
    {
     "data": {
      "text/plain": [
       "' is a free app for'"
      ]
     },
     "execution_count": 4,
     "metadata": {},
     "output_type": "execute_result"
    }
   ],
   "source": [
    "# These visualizations are only for jupyter notebook output and do not interfere with using the objects\n",
    "gen5[0].text"
   ]
  },
  {
   "cell_type": "markdown",
   "id": "05b6d54c-1176-414e-bdfb-cad1a1c58b04",
   "metadata": {},
   "source": [
    "## Tokenize\n",
    "The tokenize function also has rich HTML output"
   ]
  },
  {
   "cell_type": "code",
   "execution_count": 7,
   "id": "76335406-79f5-4460-8381-c787cc9fd87b",
   "metadata": {},
   "outputs": [
    {
     "data": {
      "text/html": [
       "<style type=\"text/css\">\n",
       "#T_9a0a7_row0_col0, #T_9a0a7_row0_col1, #T_9a0a7_row0_col2, #T_9a0a7_row1_col0, #T_9a0a7_row1_col1, #T_9a0a7_row1_col2 {\n",
       "  font-size: 90%;\n",
       "}\n",
       "</style>\n",
       "<table id=\"T_9a0a7\">\n",
       "  <thead>\n",
       "    <tr>\n",
       "      <th class=\"blank level0\" >&nbsp;</th>\n",
       "      <th id=\"T_9a0a7_level0_col0\" class=\"col_heading level0 col0\" >0</th>\n",
       "      <th id=\"T_9a0a7_level0_col1\" class=\"col_heading level0 col1\" >1</th>\n",
       "      <th id=\"T_9a0a7_level0_col2\" class=\"col_heading level0 col2\" >2</th>\n",
       "    </tr>\n",
       "  </thead>\n",
       "  <tbody>\n",
       "    <tr>\n",
       "      <th id=\"T_9a0a7_level0_row0\" class=\"row_heading level0 row0\" >token_strings</th>\n",
       "      <td id=\"T_9a0a7_row0_col0\" class=\"data row0 col0\" >one</td>\n",
       "      <td id=\"T_9a0a7_row0_col1\" class=\"data row0 col1\" > two</td>\n",
       "      <td id=\"T_9a0a7_row0_col2\" class=\"data row0 col2\" > three</td>\n",
       "    </tr>\n",
       "    <tr>\n",
       "      <th id=\"T_9a0a7_level0_row1\" class=\"row_heading level0 row1\" >tokens</th>\n",
       "      <td id=\"T_9a0a7_row1_col0\" class=\"data row1 col0\" >528</td>\n",
       "      <td id=\"T_9a0a7_row1_col1\" class=\"data row1 col1\" >923</td>\n",
       "      <td id=\"T_9a0a7_row1_col2\" class=\"data row1 col2\" >1484</td>\n",
       "    </tr>\n",
       "  </tbody>\n",
       "</table>\n"
      ],
      "text/plain": [
       "cohere.Tokens {\n",
       "\ttokens: [528, 923, 1484]\n",
       "\ttoken_strings: ['one', ' two', ' three']\n",
       "}"
      ]
     },
     "execution_count": 7,
     "metadata": {},
     "output_type": "execute_result"
    }
   ],
   "source": [
    "await co.tokenize(\"one two three\")"
   ]
  },
  {
   "cell_type": "markdown",
   "id": "439995c1-7a19-42ee-ae68-ead7fe15db01",
   "metadata": {},
   "source": [
    "# Sync Client\n",
    "These visualizations work for both clients"
   ]
  },
  {
   "cell_type": "code",
   "execution_count": 8,
   "id": "526f5921-c11d-4909-b29a-0dc42e0717ac",
   "metadata": {},
   "outputs": [
    {
     "data": {
      "text/html": [
       "<table border=\"1\" class=\"dataframe\">\n",
       "  <thead>\n",
       "    <tr style=\"text-align: right;\">\n",
       "      <th></th>\n",
       "      <th>prompt</th>\n",
       "      <th>text</th>\n",
       "    </tr>\n",
       "  </thead>\n",
       "  <tbody>\n",
       "    <tr>\n",
       "      <th>0</th>\n",
       "      <td>co:here</td>\n",
       "      <td>, RS:here,</td>\n",
       "    </tr>\n",
       "  </tbody>\n",
       "</table>"
      ],
      "text/plain": [
       "cohere.Generations {\n",
       "\tid: None\n",
       "\treturn_likelihoods: None\n",
       "\tgenerations: [cohere.Generation {\n",
       "\tid: 11c8321c-1ef8-44c1-aabd-4c4e41f03b6a\n",
       "\tprompt: co:here\n",
       "\ttext: , RS:here,\n",
       "\tlikelihood: None\n",
       "\ttoken_likelihoods: None\n",
       "}]\n",
       "}"
      ]
     },
     "execution_count": 8,
     "metadata": {},
     "output_type": "execute_result"
    }
   ],
   "source": [
    "co_sync = cohere.Client()\n",
    "co_sync.generate(prompt=\"co:here\", max_tokens=5, num_generations=1)"
   ]
  },
  {
   "cell_type": "code",
   "execution_count": null,
   "id": "ced1888f-2208-48a1-9aaa-e7f98554dbb9",
   "metadata": {},
   "outputs": [],
   "source": []
  }
 ],
 "metadata": {
  "kernelspec": {
   "display_name": "Python 3 (ipykernel)",
   "language": "python",
   "name": "python3"
  },
  "language_info": {
   "codemirror_mode": {
    "name": "ipython",
    "version": 3
   },
   "file_extension": ".py",
   "mimetype": "text/x-python",
   "name": "python",
   "nbconvert_exporter": "python",
   "pygments_lexer": "ipython3",
   "version": "3.9.6"
  }
 },
 "nbformat": 4,
 "nbformat_minor": 5
}

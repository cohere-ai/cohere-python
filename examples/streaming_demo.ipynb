{
 "cells": [
  {
   "cell_type": "code",
   "execution_count": 1,
   "id": "cef99a2c-02dc-49a3-aaea-392ab5b8d34f",
   "metadata": {},
   "outputs": [],
   "source": [
    "import sys\n",
    "import time\n",
    "\n",
    "sys.path.append(\"..\")  # make sure we can run this from the repo\n",
    "from IPython.display import Markdown, clear_output, display\n",
    "\n",
    "import cohere"
   ]
  },
  {
   "cell_type": "markdown",
   "id": "f7348c95-7b3b-4ad4-b8cd-c600c8f2943a",
   "metadata": {},
   "source": [
    "## Client example"
   ]
  },
  {
   "cell_type": "code",
   "execution_count": 2,
   "id": "52ed8a61-f0de-489a-ad5e-9055fbd40781",
   "metadata": {
    "tags": []
   },
   "outputs": [
    {
     "name": "stdout",
     "output_type": "stream",
     "text": [
      "[0][0.46s] StreamingText(id='1d46ff51-8198-493b-a579-8b64673207d1', index=0, text=' have')\n",
      "[1][0.46s] StreamingText(id=None, index=0, text=' a')\n",
      "[2][0.46s] StreamingText(id=None, index=0, text=' great')\n",
      "[3][0.46s] StreamingText(id=None, index=0, text=' day')\n",
      "[4][0.48s] StreamingText(id=None, index=0, text='.')\n",
      "[5][0.51s] StreamingText(id=None, index=0, text='\\n')\n",
      "[6][0.54s] StreamingText(id=None, index=0, text='The')\n",
      "[7][0.57s] StreamingText(id=None, index=0, text=' bees')\n",
      "[8][0.60s] StreamingText(id=None, index=0, text=' are')\n",
      "[9][0.63s] StreamingText(id=None, index=0, text=' cute')\n",
      "[10][0.65s] StreamingText(id=None, index=0, text=',')\n",
      "[11][0.68s] StreamingText(id=None, index=0, text=' I')\n",
      "[12][0.71s] StreamingText(id=None, index=0, text=' like')\n",
      "[13][0.74s] StreamingText(id=None, index=0, text=' the')\n",
      "[14][0.76s] StreamingText(id=None, index=0, text=' red')\n",
      "[15][0.79s] StreamingText(id=None, index=0, text=' one')\n",
      "[16][0.82s] StreamingText(id=None, index=0, text=' with')\n",
      "[17][0.85s] StreamingText(id=None, index=0, text=' the')\n",
      "[18][0.87s] StreamingText(id=None, index=0, text=' green')\n",
      "[19][0.90s] StreamingText(id=None, index=0, text=' bow')\n"
     ]
    },
    {
     "data": {
      "text/plain": [
       "(['1d46ff51-8198-493b-a579-8b64673207d1'],\n",
       " [' have a great day.\\nThe bees are cute, I like the red one with the green bow'])"
      ]
     },
     "execution_count": 2,
     "metadata": {},
     "output_type": "execute_result"
    }
   ],
   "source": [
    "co = cohere.Client()\n",
    "start_time = time.time()\n",
    "streaming_gens = co.generate(prompt=\"Hey! Don't worry, 🐝 happy~\", max_tokens=20, stream=True)\n",
    "for i, token in enumerate(streaming_gens):\n",
    "    print(f\"[{i}][{time.time()-start_time:.2f}s] {token}\")\n",
    "# the request id is available after the first token has streamed, and response so far is in texts\n",
    "streaming_gens.ids, streaming_gens.texts"
   ]
  },
  {
   "cell_type": "markdown",
   "id": "407077aa-c93f-4676-a1b4-b2b6e54f4cb6",
   "metadata": {},
   "source": [
    "## AsyncClient streaming example"
   ]
  },
  {
   "cell_type": "code",
   "execution_count": 3,
   "id": "d219446b-6788-48d8-8de4-af8f85e55cdd",
   "metadata": {},
   "outputs": [
    {
     "data": {
      "text/markdown": [
       "**Generation #1:** 안녕하세요? = Are you well?\n",
       "\n",
       "===Response===\n",
       "The response to the question depends on the relationship between the speaker and the listener. \n",
       "* In general, the response is the same as the English \"yes\" or"
      ],
      "text/plain": [
       "<IPython.core.display.Markdown object>"
      ]
     },
     "metadata": {},
     "output_type": "display_data"
    },
    {
     "data": {
      "text/markdown": [
       "**Generation #2:** 안녕하세요!\n",
       "I am an experienced Korean tutor who has been in the field for almost 10 years. I have earned a master's degree in Korean Language and I also hold a certificate in Korean Language Proficiency Test. I have taught students"
      ],
      "text/plain": [
       "<IPython.core.display.Markdown object>"
      ]
     },
     "metadata": {},
     "output_type": "display_data"
    },
    {
     "data": {
      "text/markdown": [
       "**Generation #3:** 안녕하세요. 아파트의 소스는 지금까지는 오래되었지만 어제는 스크"
      ],
      "text/plain": [
       "<IPython.core.display.Markdown object>"
      ]
     },
     "metadata": {},
     "output_type": "display_data"
    },
    {
     "data": {
      "text/markdown": [
       "**Generation #4:** 안녕하세요.\n",
       "I hope this site would be useful for you to learn Korean.\n",
       "\n",
       "Hi, I am Korean-American and would love to help you learn Korean.\n",
       "My lessons are flexible and open to what you would like to"
      ],
      "text/plain": [
       "<IPython.core.display.Markdown object>"
      ]
     },
     "metadata": {},
     "output_type": "display_data"
    },
    {
     "data": {
      "text/markdown": [
       "**Generation #5:** 안녕하세요!\n",
       "Hi,  안녕하세요.\n",
       "\n",
       "I would like to order a bowl of bibimbap, please.\n",
       "\n",
       "밥상 밥상 주세"
      ],
      "text/plain": [
       "<IPython.core.display.Markdown object>"
      ]
     },
     "metadata": {},
     "output_type": "display_data"
    }
   ],
   "source": [
    "prompt = \"안녕하\"\n",
    "num_generations = 5\n",
    "max_tokens = 50\n",
    "texts = [f\"**Generation #{i+1}:** {prompt}\" for i in range(num_generations)]\n",
    "displays = [display(display_id=True) for t in texts]\n",
    "\n",
    "async with cohere.AsyncClient() as aio_co:\n",
    "    start_time = time.time()\n",
    "    aio_streaming_gens = await aio_co.generate(\n",
    "        prompt=prompt,\n",
    "        max_tokens=max_tokens,\n",
    "        model=\"command-xlarge-nightly\",\n",
    "        num_generations=num_generations,\n",
    "        stream=True,\n",
    "    )\n",
    "\n",
    "    async for token in aio_streaming_gens:\n",
    "        texts[token.index] += token.text\n",
    "        displays[token.index].update(Markdown(texts[token.index]))"
   ]
  },
  {
   "cell_type": "code",
   "execution_count": null,
   "id": "8d6cea95-c0ce-414a-9aa7-162bb8179e11",
   "metadata": {},
   "outputs": [],
   "source": []
  }
 ],
 "metadata": {
  "kernelspec": {
   "display_name": "Python 3 (ipykernel)",
   "language": "python",
   "name": "python3"
  },
  "language_info": {
   "codemirror_mode": {
    "name": "ipython",
    "version": 3
   },
   "file_extension": ".py",
   "mimetype": "text/x-python",
   "name": "python",
   "nbconvert_exporter": "python",
   "pygments_lexer": "ipython3",
   "version": "3.9.6"
  }
 },
 "nbformat": 4,
 "nbformat_minor": 5
}

{
 "cells": [
  {
   "cell_type": "code",
   "execution_count": 1,
   "id": "33eb259f-54b8-469a-b97c-d5b90612c53d",
   "metadata": {
    "tags": []
   },
   "outputs": [],
   "source": [
    "import sys\n",
    "import time\n",
    "\n",
    "sys.path.append(\"..\")  # make sure we can run this from the repo\n",
    "from IPython.display import Markdown, clear_output, display\n",
    "from ipywidgets import widgets, Layout\n",
    "\n",
    "import cohere"
   ]
  },
  {
   "cell_type": "markdown",
   "id": "f7348c95-7b3b-4ad4-b8cd-c600c8f2943a",
   "metadata": {},
   "source": [
    "## Client example"
   ]
  },
  {
   "cell_type": "markdown",
   "id": "927f90b4",
   "metadata": {},
   "source": [
    "### Simple Generate Example"
   ]
  },
  {
   "cell_type": "code",
   "execution_count": 2,
   "id": "52ed8a61-f0de-489a-ad5e-9055fbd40781",
   "metadata": {
    "tags": []
   },
   "outputs": [
    {
     "name": "stdout",
     "output_type": "stream",
     "text": [
      "[0][0.41s] StreamingText(id='0e3baf51-52ab-4ba9-8743-378cb75533e9', index=0, text='\"')\n",
      "[1][0.44s] StreamingText(id=None, index=0, text='\\n')\n",
      "[2][0.47s] StreamingText(id=None, index=0, text='\\n')\n",
      "[3][0.49s] StreamingText(id=None, index=0, text='I')\n",
      "[4][0.55s] StreamingText(id=None, index=0, text=' smiled')\n",
      "[5][0.58s] StreamingText(id=None, index=0, text=',')\n",
      "[6][0.58s] StreamingText(id=None, index=0, text=' but')\n",
      "[7][0.61s] StreamingText(id=None, index=0, text=' the')\n",
      "[8][0.64s] StreamingText(id=None, index=0, text=' smile')\n",
      "[9][0.66s] StreamingText(id=None, index=0, text=' only')\n",
      "[10][0.69s] StreamingText(id=None, index=0, text=' lasted')\n",
      "[11][0.72s] StreamingText(id=None, index=0, text=' for')\n",
      "[12][0.75s] StreamingText(id=None, index=0, text=' a')\n",
      "[13][0.77s] StreamingText(id=None, index=0, text=' second')\n",
      "[14][0.80s] StreamingText(id=None, index=0, text=',')\n",
      "[15][0.83s] StreamingText(id=None, index=0, text=' because')\n",
      "[16][0.86s] StreamingText(id=None, index=0, text=' I')\n",
      "[17][0.88s] StreamingText(id=None, index=0, text=' realized')\n",
      "[18][0.91s] StreamingText(id=None, index=0, text=' what')\n",
      "[19][0.94s] StreamingText(id=None, index=0, text=' I')\n"
     ]
    },
    {
     "data": {
      "text/plain": [
       "(['0e3baf51-52ab-4ba9-8743-378cb75533e9'],\n",
       " ['\"\\n\\nI smiled, but the smile only lasted for a second, because I realized what I'])"
      ]
     },
     "execution_count": 2,
     "metadata": {},
     "output_type": "execute_result"
    }
   ],
   "source": [
    "co = cohere.Client()\n",
    "start_time = time.time()\n",
    "streaming_gens = co.generate(prompt=\"Hey! Don't worry, 🐝 happy~\", max_tokens=20, stream=True)\n",
    "for i, token in enumerate(streaming_gens):\n",
    "    print(f\"[{i}][{time.time()-start_time:.2f}s] {token}\")\n",
    "# the request id is available after the first token has streamed, and response so far is in texts\n",
    "streaming_gens.ids, streaming_gens.texts"
   ]
  },
  {
   "cell_type": "markdown",
   "id": "0a8140b9",
   "metadata": {},
   "source": [
    "### Widgets Chat Example"
   ]
  },
  {
   "cell_type": "code",
   "execution_count": 3,
   "id": "1a484c0e-9f6b-48ef-9e3f-e6795f52b425",
   "metadata": {
    "tags": []
   },
   "outputs": [
    {
     "data": {
      "text/plain": [
       "'Type your message below and hit enter to chat!'"
      ]
     },
     "metadata": {},
     "output_type": "display_data"
    },
    {
     "data": {
      "application/vnd.jupyter.widget-view+json": {
       "model_id": "b8ff48dcce874970ad9ce938f0ce6577",
       "version_major": 2,
       "version_minor": 0
      },
      "text/plain": [
       "Text(value='Hey!', description='User:')"
      ]
     },
     "metadata": {},
     "output_type": "display_data"
    }
   ],
   "source": [
    "co = cohere.Client()\n",
    "max_tokens = 250\n",
    "\n",
    "text = \"\"\n",
    "output_area = display(\"Type your message below and hit enter to chat!\", display_id=True)\n",
    "input_text = widgets.Text(value=\"Hey!\", description=\"User:\", disabled=False)\n",
    "\n",
    "def append_text(s):\n",
    "    global text\n",
    "    text += s\n",
    "    output_area.update(Markdown(text))\n",
    "\n",
    "def stream_response(input_text):\n",
    "    query = input_text.value\n",
    "    if query.startswith(\"<generating\"):\n",
    "        return\n",
    "    input_text.value = \"<generating response>\"\n",
    "    append_text(f\"\\n\\nUser: {query}\\n\\nChatbot: \")\n",
    "    streaming_chat = co.chat(\n",
    "        query=query,\n",
    "        max_tokens=max_tokens,\n",
    "        stream=True,\n",
    "    )\n",
    "    for token in streaming_chat:\n",
    "        append_text(token.text)\n",
    "    input_text.value = \"\"\n",
    "\n",
    "display(input_text)\n",
    "input_text.on_submit(stream_response)"
   ]
  },
  {
   "cell_type": "markdown",
   "id": "0e5f2602-f3ae-4449-8f61-2be6352a04ad",
   "metadata": {},
   "source": [
    "## AsyncClient example"
   ]
  },
  {
   "cell_type": "markdown",
   "id": "4049f74f-e9ae-4fc3-a695-c1b585f0916c",
   "metadata": {},
   "source": [
    "### Widgets generate example"
   ]
  },
  {
   "cell_type": "code",
   "execution_count": 4,
   "id": "d219446b-6788-48d8-8de4-af8f85e55cdd",
   "metadata": {},
   "outputs": [
    {
     "data": {
      "text/markdown": [
       "**Generation #1:** 안녕하세요.\n",
       "I hope you're doing well.\n",
       "\n",
       "8. 와, 다음에 공부할 걸 가지고 있어요.\n",
       "Okay, I"
      ],
      "text/plain": [
       "<IPython.core.display.Markdown object>"
      ]
     },
     "metadata": {},
     "output_type": "display_data"
    },
    {
     "data": {
      "text/markdown": [
       "**Generation #2:** 안녕하세요!\n",
       "I am a native Korean who has been working in the Korean-English translation field for more than 5 years. My major is master's degree in linguistics. I am certified as a Korean language teacher and currently teaching Korean"
      ],
      "text/plain": [
       "<IPython.core.display.Markdown object>"
      ]
     },
     "metadata": {},
     "output_type": "display_data"
    },
    {
     "data": {
      "text/markdown": [
       "**Generation #3:** 안녕하세요. 저는 걸프릴 수 있는 것이라 생각하고 있습니다. 그렇지만 교회"
      ],
      "text/plain": [
       "<IPython.core.display.Markdown object>"
      ]
     },
     "metadata": {},
     "output_type": "display_data"
    },
    {
     "data": {
      "text/markdown": [
       "**Generation #4:** 안녕하세요~ \n",
       "My name is Dr. Brian Allen, and I am a professor at the University of Wisconsin-Madison. I am contacting you today because I am interested in learning more about your research on the cognitive and affective processing"
      ],
      "text/plain": [
       "<IPython.core.display.Markdown object>"
      ]
     },
     "metadata": {},
     "output_type": "display_data"
    },
    {
     "data": {
      "text/markdown": [
       "**Generation #5:** 안녕하세요!\n",
       "I am a native Korean speaker, and I have been teaching Korean to students of all ages and levels since 2008. I received my MA degree in Korean Language and Linguistics in 2009. I currently teach at the Korean"
      ],
      "text/plain": [
       "<IPython.core.display.Markdown object>"
      ]
     },
     "metadata": {},
     "output_type": "display_data"
    }
   ],
   "source": [
    "prompt = \"안녕하\"\n",
    "num_generations = 5\n",
    "max_tokens = 50\n",
    "texts = [f\"**Generation #{i+1}:** {prompt}\" for i in range(num_generations)]\n",
    "displays = [display(display_id=True) for t in texts]\n",
    "\n",
    "async with cohere.AsyncClient() as aio_co:\n",
    "    start_time = time.time()\n",
    "    aio_streaming_gens = await aio_co.generate(\n",
    "        prompt=prompt,\n",
    "        max_tokens=max_tokens,\n",
    "        model=\"command-xlarge-nightly\",\n",
    "        num_generations=num_generations,\n",
    "        stream=True,\n",
    "    )\n",
    "\n",
    "    async for token in aio_streaming_gens:\n",
    "        texts[token.index] += token.text\n",
    "        displays[token.index].update(Markdown(texts[token.index]))"
   ]
  },
  {
   "cell_type": "markdown",
   "id": "8d6cea95-c0ce-414a-9aa7-162bb8179e11",
   "metadata": {},
   "source": [
    "### Simple Chat Example"
   ]
  },
  {
   "cell_type": "code",
   "execution_count": 5,
   "id": "fae3c5f6",
   "metadata": {
    "tags": []
   },
   "outputs": [
    {
     "name": "stdout",
     "output_type": "stream",
     "text": [
      "StreamingText(index=0, text='Yes')\n",
      "StreamingText(index=0, text=',')\n",
      "StreamingText(index=0, text=' I')\n",
      "StreamingText(index=0, text=' would')\n",
      "StreamingText(index=0, text=' like')\n",
      "StreamingText(index=0, text=' to')\n",
      "StreamingText(index=0, text=' build')\n",
      "StreamingText(index=0, text=' a')\n",
      "StreamingText(index=0, text=' snow')\n",
      "StreamingText(index=0, text='man')\n",
      "StreamingText(index=0, text='.')\n",
      "['Yes, I would like to build a snowman.']\n"
     ]
    }
   ],
   "source": [
    "query = \"Do You Want to Build a Snowman?\"\n",
    "async with cohere.AsyncClient() as aio_co:\n",
    "    streaming_chat = await aio_co.chat(\n",
    "        query=query,\n",
    "        max_tokens=50,\n",
    "        stream=True,\n",
    "    )\n",
    "    async for token in streaming_chat:\n",
    "        print(token)\n",
    "    print(streaming_chat.texts)"
   ]
  },
  {
   "cell_type": "code",
   "execution_count": null,
   "id": "27e3a8e4-d9bc-4b34-9659-91c5cc2ea246",
   "metadata": {},
   "outputs": [],
   "source": []
  }
 ],
 "metadata": {
  "kernelspec": {
   "display_name": "Python 3 (ipykernel)",
   "language": "python",
   "name": "python3"
  },
  "language_info": {
   "codemirror_mode": {
    "name": "ipython",
    "version": 3
   },
   "file_extension": ".py",
   "mimetype": "text/x-python",
   "name": "python",
   "nbconvert_exporter": "python",
   "pygments_lexer": "ipython3",
   "version": "3.9.6"
  },
  "vscode": {
   "interpreter": {
    "hash": "31f2aee4e71d21fbe5cf8b01ff0e069b9275f58929596ceb00d14d90e3e16cd6"
   }
  }
 },
 "nbformat": 4,
 "nbformat_minor": 5
}

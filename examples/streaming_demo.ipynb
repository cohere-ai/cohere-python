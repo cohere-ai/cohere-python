{
 "cells": [
  {
   "cell_type": "code",
   "execution_count": 1,
   "id": "cef99a2c-02dc-49a3-aaea-392ab5b8d34f",
   "metadata": {},
   "outputs": [],
   "source": [
    "import sys\n",
    "import time\n",
    "\n",
    "sys.path.append(\"..\")  # make sure we can run this from the repo\n",
    "from IPython.display import Markdown, clear_output, display\n",
    "\n",
    "import cohere"
   ]
  },
  {
   "cell_type": "markdown",
   "id": "f7348c95-7b3b-4ad4-b8cd-c600c8f2943a",
   "metadata": {},
   "source": [
    "## Client example"
   ]
  },
  {
   "cell_type": "code",
   "execution_count": 2,
   "id": "52ed8a61-f0de-489a-ad5e-9055fbd40781",
   "metadata": {
    "tags": []
   },
   "outputs": [
    {
     "name": "stdout",
     "output_type": "stream",
     "text": [
      "[0][0.45s] StreamingText(id='4c2fc597-7dbe-448d-b0ce-f3c7778fd6c7', index=0, text=' The')\n",
      "[1][0.45s] StreamingText(id=None, index=0, text=' queen')\n",
      "[2][0.45s] StreamingText(id=None, index=0, text=' bee')\n",
      "[3][0.45s] StreamingText(id=None, index=0, text=' is')\n",
      "[4][0.47s] StreamingText(id=None, index=0, text=' not')\n",
      "[5][0.50s] StreamingText(id=None, index=0, text=' a')\n",
      "[6][0.53s] StreamingText(id=None, index=0, text=' gentle')\n",
      "[7][0.56s] StreamingText(id=None, index=0, text=' flower')\n",
      "[8][0.59s] StreamingText(id=None, index=0, text=',')\n",
      "[9][0.61s] StreamingText(id=None, index=0, text=' she')\n",
      "[10][0.64s] StreamingText(id=None, index=0, text=' has')\n",
      "[11][0.67s] StreamingText(id=None, index=0, text=' a')\n",
      "[12][0.70s] StreamingText(id=None, index=0, text=' large')\n",
      "[13][0.72s] StreamingText(id=None, index=0, text=' body')\n",
      "[14][0.75s] StreamingText(id=None, index=0, text=',')\n",
      "[15][0.78s] StreamingText(id=None, index=0, text=' a')\n",
      "[16][0.80s] StreamingText(id=None, index=0, text=' terrible')\n",
      "[17][0.83s] StreamingText(id=None, index=0, text=' temper')\n",
      "[18][0.86s] StreamingText(id=None, index=0, text='ament')\n",
      "[19][0.89s] StreamingText(id=None, index=0, text=',')\n"
     ]
    },
    {
     "data": {
      "text/plain": [
       "(['4c2fc597-7dbe-448d-b0ce-f3c7778fd6c7'],\n",
       " [' The queen bee is not a gentle flower, she has a large body, a terrible temperament,'])"
      ]
     },
     "execution_count": 2,
     "metadata": {},
     "output_type": "execute_result"
    }
   ],
   "source": [
    "co = cohere.Client()\n",
    "start_time = time.time()\n",
    "streaming_gens = co.generate(prompt=\"Hey! Don't worry, 🐝 happy~\", max_tokens=20, stream=True)\n",
    "for i, token in enumerate(streaming_gens):\n",
    "    print(f\"[{i}][{time.time()-start_time:.2f}s] {token}\")\n",
    "# the request id is available after the first token has streamed, and response so far is in texts\n",
    "streaming_gens.ids, streaming_gens.texts"
   ]
  },
  {
   "cell_type": "markdown",
   "id": "407077aa-c93f-4676-a1b4-b2b6e54f4cb6",
   "metadata": {},
   "source": [
    "## AsyncClient streaming example"
   ]
  },
  {
   "cell_type": "code",
   "execution_count": 3,
   "id": "d219446b-6788-48d8-8de4-af8f85e55cdd",
   "metadata": {},
   "outputs": [
    {
     "data": {
      "text/markdown": [
       "**Generation #1:** 안녕하세요. 반갑습니다.\n",
       "A: Hi. Nice to meet you.\n",
       "B: Nice to meet you too.\n",
       "\n",
       "A: What's your name?\n",
       "B: My name is Brian."
      ],
      "text/plain": [
       "<IPython.core.display.Markdown object>"
      ]
     },
     "metadata": {},
     "output_type": "display_data"
    },
    {
     "data": {
      "text/markdown": [
       "**Generation #2:** 안녕하세요 페이지 자주 사용하는데 제가 가장 좋아하는 분이 되는 웹 사이트"
      ],
      "text/plain": [
       "<IPython.core.display.Markdown object>"
      ]
     },
     "metadata": {},
     "output_type": "display_data"
    },
    {
     "data": {
      "text/markdown": [
       "**Generation #3:** 안녕하세요. 제 이름은 베트남인입니다. 영어로 말하는 것이 힘들이네요. 그래도"
      ],
      "text/plain": [
       "<IPython.core.display.Markdown object>"
      ]
     },
     "metadata": {},
     "output_type": "display_data"
    },
    {
     "data": {
      "text/markdown": [
       "**Generation #4:** 안녕하세요! 한국에서는 이런 것들이 많이 부피하지만 나라 사는 사람들은 이것들을"
      ],
      "text/plain": [
       "<IPython.core.display.Markdown object>"
      ]
     },
     "metadata": {},
     "output_type": "display_data"
    },
    {
     "data": {
      "text/markdown": [
       "**Generation #5:** 안녕하세요 안녕하세요 오늘은 두번째 영화의 부화입니다 영화의 상"
      ],
      "text/plain": [
       "<IPython.core.display.Markdown object>"
      ]
     },
     "metadata": {},
     "output_type": "display_data"
    }
   ],
   "source": [
    "prompt = \"안녕하\"\n",
    "num_generations = 5\n",
    "max_tokens = 50\n",
    "texts = [f\"**Generation #{i+1}:** {prompt}\" for i in range(num_generations)]\n",
    "displays = [display(display_id=True) for t in texts]\n",
    "\n",
    "async with cohere.AsyncClient() as aio_co:\n",
    "    start_time = time.time()\n",
    "    aio_streaming_gens = await aio_co.generate(\n",
    "        prompt=prompt,\n",
    "        max_tokens=max_tokens,\n",
    "        model=\"command-xlarge-nightly\",\n",
    "        num_generations=num_generations,\n",
    "        stream=True,\n",
    "    )\n",
    "\n",
    "    async for token in aio_streaming_gens:\n",
    "        texts[token.index] += token.text\n",
    "        displays[token.index].update(Markdown(texts[token.index]))"
   ]
  },
  {
   "cell_type": "code",
   "execution_count": null,
   "id": "8d6cea95-c0ce-414a-9aa7-162bb8179e11",
   "metadata": {},
   "outputs": [],
   "source": []
  }
 ],
 "metadata": {
  "kernelspec": {
   "display_name": "Python 3 (ipykernel)",
   "language": "python",
   "name": "python3"
  },
  "language_info": {
   "codemirror_mode": {
    "name": "ipython",
    "version": 3
   },
   "file_extension": ".py",
   "mimetype": "text/x-python",
   "name": "python",
   "nbconvert_exporter": "python",
   "pygments_lexer": "ipython3",
   "version": "3.9.6"
  }
 },
 "nbformat": 4,
 "nbformat_minor": 5
}

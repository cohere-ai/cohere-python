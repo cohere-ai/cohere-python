{
 "cells": [
  {
   "cell_type": "code",
   "execution_count": 8,
   "id": "33eb259f-54b8-469a-b97c-d5b90612c53d",
   "metadata": {
    "tags": []
   },
   "outputs": [],
   "source": [
    "import sys\n",
    "import time,os\n",
    "\n",
    "sys.path.append(\"..\")  # make sure we can run this from the repo\n",
    "from IPython.display import Markdown, clear_output, display\n",
    "from ipywidgets import widgets\n",
    "\n",
    "import cohere\n",
    "cohere.COHERE_API_URL = 'https://stg.api.cohere.ai'\n",
    "\n",
    "model = 'chat-6b-v10-2-specialtokens'\n",
    "\n",
    "CHAT_MODEL = 'converse-xlarge-nightly'"
   ]
  },
  {
   "cell_type": "markdown",
   "id": "f7348c95-7b3b-4ad4-b8cd-c600c8f2943a",
   "metadata": {},
   "source": [
    "## Client example"
   ]
  },
  {
   "cell_type": "markdown",
   "id": "927f90b4",
   "metadata": {},
   "source": [
    "### Simple Generate Example"
   ]
  },
  {
   "cell_type": "code",
   "execution_count": 9,
   "id": "52ed8a61-f0de-489a-ad5e-9055fbd40781",
   "metadata": {
    "tags": []
   },
   "outputs": [
    {
     "name": "stdout",
     "output_type": "stream",
     "text": [
      "[0][0.53s] StreamingText(id='48669cbc-1e84-4e8b-aebf-5c97a6a75cda', index=0, text='\\n')\n",
      "[1][0.54s] StreamingText(id=None, index=0, text='It')\n",
      "[2][0.55s] StreamingText(id=None, index=0, text=\"'s\")\n",
      "[3][0.56s] StreamingText(id=None, index=0, text=' a')\n",
      "[4][0.57s] StreamingText(id=None, index=0, text=' cute')\n",
      "[5][0.58s] StreamingText(id=None, index=0, text=' little')\n",
      "[6][0.59s] StreamingText(id=None, index=0, text=' alien')\n",
      "[7][0.61s] StreamingText(id=None, index=0, text='!')\n",
      "[8][0.62s] StreamingText(id=None, index=0, text=' It')\n",
      "[9][0.63s] StreamingText(id=None, index=0, text=' was')\n",
      "[10][0.64s] StreamingText(id=None, index=0, text=' too')\n",
      "[11][0.65s] StreamingText(id=None, index=0, text=' scared')\n",
      "[12][0.66s] StreamingText(id=None, index=0, text=' to')\n",
      "[13][0.68s] StreamingText(id=None, index=0, text=' come')\n",
      "[14][0.69s] StreamingText(id=None, index=0, text=' out')\n",
      "[15][0.70s] StreamingText(id=None, index=0, text=',')\n",
      "[16][0.71s] StreamingText(id=None, index=0, text=' but')\n",
      "[17][0.74s] StreamingText(id=None, index=0, text=' it')\n",
      "[18][0.75s] StreamingText(id=None, index=0, text=' sure')\n",
      "[19][0.76s] StreamingText(id=None, index=0, text=' is')\n",
      "[20][0.77s] StreamingText(id=None, index=0, text=' cute')\n",
      "[21][0.78s] StreamingText(id=None, index=0, text='!')\n",
      "[22][0.79s] StreamingText(id=None, index=0, text=' I')\n",
      "[23][0.80s] StreamingText(id=None, index=0, text=' hope')\n",
      "[24][0.81s] StreamingText(id=None, index=0, text=' you')\n",
      "[25][0.83s] StreamingText(id=None, index=0, text=' can')\n",
      "[26][0.84s] StreamingText(id=None, index=0, text=' take')\n",
      "[27][0.85s] StreamingText(id=None, index=0, text=' pictures')\n",
      "[28][0.86s] StreamingText(id=None, index=0, text=' of')\n",
      "[29][0.87s] StreamingText(id=None, index=0, text=' it')\n",
      "[30][0.88s] StreamingText(id=None, index=0, text=' for')\n",
      "[31][0.89s] StreamingText(id=None, index=0, text=' me')\n",
      "[32][0.91s] StreamingText(id=None, index=0, text='!')\n"
     ]
    },
    {
     "data": {
      "text/plain": [
       "(['48669cbc-1e84-4e8b-aebf-5c97a6a75cda'],\n",
       " [\"\\nIt's a cute little alien! It was too scared to come out, but it sure is cute! I hope you can take pictures of it for me!\"])"
      ]
     },
     "execution_count": 9,
     "metadata": {},
     "output_type": "execute_result"
    }
   ],
   "source": [
    "co = cohere.Client(os.environ['CO_STG_API_KEY'])\n",
    "start_time = time.time()\n",
    "streaming_gens = co.generate(prompt=\"Hey! Don't worry, 🐝 happy~\", max_tokens=200, model=model,stream=True)\n",
    "for i, token in enumerate(streaming_gens):\n",
    "    print(f\"[{i}][{time.time()-start_time:.2f}s] {token}\")\n",
    "# the request id is available after the first token has streamed, and response so far is in texts\n",
    "streaming_gens.ids, streaming_gens.texts"
   ]
  },
  {
   "cell_type": "markdown",
   "id": "0a8140b9",
   "metadata": {},
   "source": [
    "### Widgets Chat Example"
   ]
  },
  {
   "cell_type": "code",
   "execution_count": null,
   "id": "1a484c0e-9f6b-48ef-9e3f-e6795f52b425",
   "metadata": {
    "tags": []
   },
   "outputs": [],
   "source": [
    "co = cohere.Client()\n",
    "max_tokens = 250\n",
    "\n",
    "text = \"\"\n",
    "output_area = display(\"Type your message below and hit enter to chat!\", display_id=True)\n",
    "input_text = widgets.Text(value=\"Hey!\", description=\"User:\", disabled=False)\n",
    "\n",
    "def append_text(s):\n",
    "    global text\n",
    "    text += s\n",
    "    output_area.update(Markdown(text))\n",
    "\n",
    "def stream_response(input_text):\n",
    "    query = input_text.value\n",
    "    if query.startswith(\"<generating\"):\n",
    "        return\n",
    "    input_text.value = \"<generating response>\"\n",
    "    append_text(f\"\\n\\nUser: {query}\\n\\nChatbot: \")\n",
    "    streaming_chat = co.chat(\n",
    "        query=query,\n",
    "        max_tokens=max_tokens,\n",
    "        model=CHAT_MODEL,\n",
    "        stream=True,\n",
    "    )\n",
    "    for token in streaming_chat:\n",
    "        append_text(token.text)\n",
    "    input_text.value = \"\"\n",
    "\n",
    "display(input_text)\n",
    "input_text.on_submit(stream_response)"
   ]
  },
  {
   "cell_type": "markdown",
   "id": "0e5f2602-f3ae-4449-8f61-2be6352a04ad",
   "metadata": {},
   "source": [
    "## AsyncClient example"
   ]
  },
  {
   "cell_type": "markdown",
   "id": "4049f74f-e9ae-4fc3-a695-c1b585f0916c",
   "metadata": {},
   "source": [
    "### Widgets generate example"
   ]
  },
  {
   "cell_type": "code",
   "execution_count": 13,
   "id": "8b5f38d7-5e03-4d1d-84ee-9ce360d52595",
   "metadata": {},
   "outputs": [
    {
     "data": {
      "text/markdown": [
       "**Generation #1:** 안녕하 좋은 상황 준비 준비 회화 중화민주주주의회"
      ],
      "text/plain": [
       "<IPython.core.display.Markdown object>"
      ]
     },
     "metadata": {},
     "output_type": "display_data"
    },
    {
     "data": {
      "text/markdown": [
       "**Generation #2:** 안녕하 주중대민회비 중외 중외 중중 파테프루 중"
      ],
      "text/plain": [
       "<IPython.core.display.Markdown object>"
      ]
     },
     "metadata": {},
     "output_type": "display_data"
    },
    {
     "data": {
      "text/markdown": [
       "**Generation #3:** 안녕하 Hello, my name is Rachel and I am the Student Director for the U-M School of Social Work's Student Leadership Council. I am currently a senior in the MSW program at the U-M School of Social Work, and I will graduate"
      ],
      "text/plain": [
       "<IPython.core.display.Markdown object>"
      ]
     },
     "metadata": {},
     "output_type": "display_data"
    },
    {
     "data": {
      "text/markdown": [
       "**Generation #4:** 안녕하 미주철료 차대 미주철료 차대 미주철료 차"
      ],
      "text/plain": [
       "<IPython.core.display.Markdown object>"
      ]
     },
     "metadata": {},
     "output_type": "display_data"
    },
    {
     "data": {
      "text/markdown": [
       "**Generation #5:** 안녕하 유머체중 왕왕 중국 후화왕대통화 철통된"
      ],
      "text/plain": [
       "<IPython.core.display.Markdown object>"
      ]
     },
     "metadata": {},
     "output_type": "display_data"
    },
    {
     "name": "stdout",
     "output_type": "stream",
     "text": [
      "None\n"
     ]
    }
   ],
   "source": [
    "prompt = \"안녕하\"\n",
    "num_generations = 5\n",
    "max_tokens = 50\n",
    "texts = [f\"**Generation #{i+1}:** {prompt}\" for i in range(num_generations)]\n",
    "displays = [display(display_id=True) for t in texts]\n",
    "\n",
    "async with cohere.AsyncClient(os.environ['CO_STG_API_KEY']) as aio_co:\n",
    "    start_time = time.time()\n",
    "    aio_streaming_gens = await aio_co.generate(\n",
    "        prompt=prompt,\n",
    "        max_tokens=max_tokens,\n",
    "        #model=\"command-xlarge-nightly\",\n",
    "        num_generations=num_generations,\n",
    "        model=model,\n",
    "        stream=True,\n",
    "    )\n",
    "\n",
    "    async for token in aio_streaming_gens:\n",
    "        texts[token.index] += token.text\n",
    "        displays[token.index].update(Markdown(texts[token.index]))"
   ]
  },
  {
   "cell_type": "code",
   "execution_count": 12,
   "id": "41690d86-cab9-4f6c-aa83-d3edc2d7d0e2",
   "metadata": {},
   "outputs": [
    {
     "data": {
      "text/plain": [
       "cohere.StreamingGenerations {\n",
       "\tresponse: <ClientResponse(https://stg.api.cohere.ai/v1/generate) [401 Unauthorized]>\n",
       "<CIMultiDictProxy('Content-Type': 'application/json', 'Vary': 'Origin', 'x-ratelimit-limit': '10000000', 'x-ratelimit-remaining': '9999994', 'x-ratelimit-reset': '1674403260', 'Date': 'Mon, 27 Mar 2023 21:14:40 GMT', 'Content-Length': '31', 'Via': '1.1 google', 'Alt-Svc': 'h3=\":443\"; ma=2592000,h3-29=\":443\"; ma=2592000')>\n",
       "\n",
       "\tids: [None]\n",
       "\ttexts: ['']\n",
       "}"
      ]
     },
     "execution_count": 12,
     "metadata": {},
     "output_type": "execute_result"
    }
   ],
   "source": [
    "aio_streaming_gens"
   ]
  },
  {
   "cell_type": "markdown",
   "id": "8d6cea95-c0ce-414a-9aa7-162bb8179e11",
   "metadata": {},
   "source": [
    "### Simple Chat Example"
   ]
  },
  {
   "cell_type": "code",
   "execution_count": null,
   "id": "fae3c5f6",
   "metadata": {
    "tags": []
   },
   "outputs": [],
   "source": [
    "query = \"Do You Want to Build a Snowman?\"\n",
    "async with cohere.AsyncClient() as aio_co:\n",
    "    streaming_chat = await aio_co.chat(\n",
    "        query=query,\n",
    "        max_tokens=50,\n",
    "        model=CHAT_MODEL,\n",
    "        stream=True,\n",
    "    )\n",
    "    async for token in streaming_chat:\n",
    "        print(token)\n",
    "    print(streaming_chat.texts)"
   ]
  }
 ],
 "metadata": {
  "kernelspec": {
   "display_name": "Python 3 (ipykernel)",
   "language": "python",
   "name": "python3"
  },
  "language_info": {
   "codemirror_mode": {
    "name": "ipython",
    "version": 3
   },
   "file_extension": ".py",
   "mimetype": "text/x-python",
   "name": "python",
   "nbconvert_exporter": "python",
   "pygments_lexer": "ipython3",
   "version": "3.9.6"
  },
  "vscode": {
   "interpreter": {
    "hash": "31f2aee4e71d21fbe5cf8b01ff0e069b9275f58929596ceb00d14d90e3e16cd6"
   }
  }
 },
 "nbformat": 4,
 "nbformat_minor": 5
}

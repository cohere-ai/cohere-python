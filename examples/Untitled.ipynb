{
 "cells": [
  {
   "cell_type": "code",
   "execution_count": null,
   "id": "927ed825-31a5-4832-b585-2d0c319aa421",
   "metadata": {
    "tags": []
   },
   "outputs": [],
   "source": [
    "import os\n",
    "import cohere\n",
    "\n",
    "import conversant\n",
    "from conversant.prompts import ChatPrompt\n",
    "\n",
    "co = cohere.Client(os.environ.get(\"CO_API_KEY\"))\n",
    "\n",
    "fantasy_config = {\n",
    "    \"preamble\": \"Chatbot is a fantasy adventure game simulation, and is talking with a User. Chatbot speaks in old-time style English, using phrases like 'thee' and 'thou'. Chatbot gives long replies in a poetic style, and describes a medieval fantasy world full of mythical creatures. Chatbot responds to commands from the User like 'go north' or 'look at flask'.  Chatbot always asks a User at the end of its reply to see what the User wants to do next.\",\n",
    "    \"example_separator\": \"\",\n",
    "    \"headers\": {\n",
    "        \"user\": \"User\", # Do not change this name for now!\n",
    "        \"bot\": \"Chatbot\", # Do not change this name for now!\n",
    "    },\n",
    "    \"examples\": [],\n",
    "}\n",
    "\n",
    "fantasy_bot = conversant.PromptChatbot(\n",
    "    client=co, prompt=ChatPrompt.from_dict(fantasy_config)\n",
    ")\n",
    "\n",
    "fantasy_bot.configure_client({\n",
    "    \"model\": \"command-xlarge-nightly\",\n",
    "    \"stop_sequences\": [],\n",
    "})\n",
    "\n",
    "user_input = \"\"\n",
    "\n",
    "while user_input.lower() != \"exit\":\n",
    "    user_input = input(\">> \")\n",
    "    print(fantasy_bot.reply(user_input))"
   ]
  },
  {
   "cell_type": "code",
   "execution_count": 2,
   "id": "6cca624c-b9d6-4058-b7b7-70a8128f4724",
   "metadata": {
    "tags": []
   },
   "outputs": [],
   "source": [
    "import os\n",
    "import cohere\n",
    "import requests"
   ]
  },
  {
   "cell_type": "code",
   "execution_count": 10,
   "id": "04e4b537-7543-4a64-81cb-1424fcf32a09",
   "metadata": {},
   "outputs": [],
   "source": [
    "words = requests.get('https://gist.githubusercontent.com/deekayen/4148741/raw/98d35708fa344717d8eee15d11987de6c8e26d7d/1-1000.txt').text.split()\n",
    "words = [w for w in words if len(w) >= 5]"
   ]
  },
  {
   "cell_type": "code",
   "execution_count": 11,
   "id": "5ce626af-2293-4c50-b6cb-14523d6b610d",
   "metadata": {
    "tags": []
   },
   "outputs": [],
   "source": [
    "co = cohere.Client()"
   ]
  },
  {
   "cell_type": "code",
   "execution_count": 12,
   "id": "30e2565d-5b57-4174-8a6e-d183c3ae4a3a",
   "metadata": {
    "tags": []
   },
   "outputs": [],
   "source": [
    "toks = co.batch_tokenize(words)"
   ]
  },
  {
   "cell_type": "code",
   "execution_count": 13,
   "id": "19250f42-1d7a-435c-be89-ea12a7b0ba05",
   "metadata": {
    "tags": []
   },
   "outputs": [],
   "source": [
    "sp_toks = co.batch_tokenize([' ' + w for w in words])"
   ]
  },
  {
   "cell_type": "code",
   "execution_count": 15,
   "id": "ee0db845-15e0-44a0-848f-8aebde31e0b1",
   "metadata": {
    "tags": []
   },
   "outputs": [],
   "source": [
    "detok = co.batch_detokenize([ [t.tokens[0]] for t in toks ])"
   ]
  },
  {
   "cell_type": "code",
   "execution_count": 16,
   "id": "04f03ada-0e6b-4213-92b9-d13351ef8045",
   "metadata": {
    "tags": []
   },
   "outputs": [],
   "source": [
    "sp_detok = co.batch_detokenize([ [t.tokens[0]] for t in sp_toks ])"
   ]
  },
  {
   "cell_type": "code",
   "execution_count": 25,
   "id": "504ab748-fe15-4eba-9b12-042c11356b89",
   "metadata": {
    "tags": []
   },
   "outputs": [],
   "source": [
    "sl = sorted([ (len(a.text) - len(b.text), w, a.text, b.text) for w, a,b in zip(words, detok,sp_detok) if a.text.strip()!=b.text.strip() ] )\n",
    "    "
   ]
  },
  {
   "cell_type": "code",
   "execution_count": 26,
   "id": "de1a3aa4-8dee-44f2-ab0e-f8b0c5c0fbf9",
   "metadata": {
    "tags": []
   },
   "outputs": [
    {
     "data": {
      "text/plain": [
       "[(-10, 'dictionary', 'd', ' dictionary'),\n",
       " (-9, 'difficult', 'd', ' difficult'),\n",
       " (-9, 'instrument', 'in', ' instrument'),\n",
       " (-9, 'temperature', 'tem', ' temperature'),\n",
       " (-8, 'fraction', 'f', ' fraction'),\n",
       " (-8, 'molecule', 'm', ' molecule'),\n",
       " (-8, 'possible', 'p', ' possible'),\n",
       " (-8, 'solution', 's', ' solution'),\n",
       " (-7, 'brought', 'b', ' brought'),\n",
       " (-7, 'exercise', 'ex', ' exercise')]"
      ]
     },
     "execution_count": 26,
     "metadata": {},
     "output_type": "execute_result"
    }
   ],
   "source": [
    "sl[:10]"
   ]
  },
  {
   "cell_type": "code",
   "execution_count": 27,
   "id": "b971a597-9331-45c7-9808-19989a694a54",
   "metadata": {
    "tags": []
   },
   "outputs": [
    {
     "data": {
      "text/plain": [
       "(-5, 'spread', 'sp', ' spread')"
      ]
     },
     "execution_count": 27,
     "metadata": {},
     "output_type": "execute_result"
    }
   ],
   "source": [
    "sl[-100]"
   ]
  },
  {
   "cell_type": "code",
   "execution_count": 22,
   "id": "c53296c8-5a9f-43ee-8663-f25bab3ad610",
   "metadata": {
    "tags": []
   },
   "outputs": [
    {
     "data": {
      "text/html": [
       "<style type=\"text/css\">\n",
       "#T_4c233_row0_col0, #T_4c233_row0_col1, #T_4c233_row0_col2, #T_4c233_row0_col3, #T_4c233_row0_col4, #T_4c233_row0_col5, #T_4c233_row0_col6, #T_4c233_row0_col7, #T_4c233_row0_col8, #T_4c233_row0_col9, #T_4c233_row0_col10, #T_4c233_row0_col11, #T_4c233_row0_col12, #T_4c233_row0_col13, #T_4c233_row0_col14, #T_4c233_row0_col15, #T_4c233_row0_col16, #T_4c233_row0_col17, #T_4c233_row0_col18, #T_4c233_row0_col19, #T_4c233_row0_col20, #T_4c233_row0_col21, #T_4c233_row0_col22, #T_4c233_row1_col0, #T_4c233_row1_col1, #T_4c233_row1_col2, #T_4c233_row1_col3, #T_4c233_row1_col4, #T_4c233_row1_col5, #T_4c233_row1_col6, #T_4c233_row1_col7, #T_4c233_row1_col8, #T_4c233_row1_col9, #T_4c233_row1_col10, #T_4c233_row1_col11, #T_4c233_row1_col12, #T_4c233_row1_col13, #T_4c233_row1_col14, #T_4c233_row1_col15, #T_4c233_row1_col16, #T_4c233_row1_col17, #T_4c233_row1_col18, #T_4c233_row1_col19, #T_4c233_row1_col20, #T_4c233_row1_col21, #T_4c233_row1_col22 {\n",
       "  font-size: 90%;\n",
       "}\n",
       "</style>\n",
       "<table id=\"T_4c233\">\n",
       "  <thead>\n",
       "    <tr>\n",
       "      <th class=\"blank level0\" >&nbsp;</th>\n",
       "      <th id=\"T_4c233_level0_col0\" class=\"col_heading level0 col0\" >0</th>\n",
       "      <th id=\"T_4c233_level0_col1\" class=\"col_heading level0 col1\" >1</th>\n",
       "      <th id=\"T_4c233_level0_col2\" class=\"col_heading level0 col2\" >2</th>\n",
       "      <th id=\"T_4c233_level0_col3\" class=\"col_heading level0 col3\" >3</th>\n",
       "      <th id=\"T_4c233_level0_col4\" class=\"col_heading level0 col4\" >4</th>\n",
       "      <th id=\"T_4c233_level0_col5\" class=\"col_heading level0 col5\" >5</th>\n",
       "      <th id=\"T_4c233_level0_col6\" class=\"col_heading level0 col6\" >6</th>\n",
       "      <th id=\"T_4c233_level0_col7\" class=\"col_heading level0 col7\" >7</th>\n",
       "      <th id=\"T_4c233_level0_col8\" class=\"col_heading level0 col8\" >8</th>\n",
       "      <th id=\"T_4c233_level0_col9\" class=\"col_heading level0 col9\" >9</th>\n",
       "      <th id=\"T_4c233_level0_col10\" class=\"col_heading level0 col10\" >10</th>\n",
       "      <th id=\"T_4c233_level0_col11\" class=\"col_heading level0 col11\" >11</th>\n",
       "      <th id=\"T_4c233_level0_col12\" class=\"col_heading level0 col12\" >12</th>\n",
       "      <th id=\"T_4c233_level0_col13\" class=\"col_heading level0 col13\" >13</th>\n",
       "      <th id=\"T_4c233_level0_col14\" class=\"col_heading level0 col14\" >14</th>\n",
       "      <th id=\"T_4c233_level0_col15\" class=\"col_heading level0 col15\" >15</th>\n",
       "      <th id=\"T_4c233_level0_col16\" class=\"col_heading level0 col16\" >16</th>\n",
       "      <th id=\"T_4c233_level0_col17\" class=\"col_heading level0 col17\" >17</th>\n",
       "      <th id=\"T_4c233_level0_col18\" class=\"col_heading level0 col18\" >18</th>\n",
       "      <th id=\"T_4c233_level0_col19\" class=\"col_heading level0 col19\" >19</th>\n",
       "      <th id=\"T_4c233_level0_col20\" class=\"col_heading level0 col20\" >20</th>\n",
       "      <th id=\"T_4c233_level0_col21\" class=\"col_heading level0 col21\" >21</th>\n",
       "      <th id=\"T_4c233_level0_col22\" class=\"col_heading level0 col22\" >22</th>\n",
       "    </tr>\n",
       "  </thead>\n",
       "  <tbody>\n",
       "    <tr>\n",
       "      <th id=\"T_4c233_level0_row0\" class=\"row_heading level0 row0\" >token_strings</th>\n",
       "      <td id=\"T_4c233_row0_col0\" class=\"data row0 col0\" >Make</td>\n",
       "      <td id=\"T_4c233_row0_col1\" class=\"data row0 col1\" > a</td>\n",
       "      <td id=\"T_4c233_row0_col2\" class=\"data row0 col2\" > list</td>\n",
       "      <td id=\"T_4c233_row0_col3\" class=\"data row0 col3\" > of</td>\n",
       "      <td id=\"T_4c233_row0_col4\" class=\"data row0 col4\" > the</td>\n",
       "      <td id=\"T_4c233_row0_col5\" class=\"data row0 col5\" > following</td>\n",
       "      <td id=\"T_4c233_row0_col6\" class=\"data row0 col6\" > words</td>\n",
       "      <td id=\"T_4c233_row0_col7\" class=\"data row0 col7\" > surrounded</td>\n",
       "      <td id=\"T_4c233_row0_col8\" class=\"data row0 col8\" > by</td>\n",
       "      <td id=\"T_4c233_row0_col9\" class=\"data row0 col9\" > quotes</td>\n",
       "      <td id=\"T_4c233_row0_col10\" class=\"data row0 col10\" >:</td>\n",
       "      <td id=\"T_4c233_row0_col11\" class=\"data row0 col11\" > dictionary</td>\n",
       "      <td id=\"T_4c233_row0_col12\" class=\"data row0 col12\" >,</td>\n",
       "      <td id=\"T_4c233_row0_col13\" class=\"data row0 col13\" > instrument</td>\n",
       "      <td id=\"T_4c233_row0_col14\" class=\"data row0 col14\" >\n",
       "</td>\n",
       "      <td id=\"T_4c233_row0_col15\" class=\"data row0 col15\" >'d</td>\n",
       "      <td id=\"T_4c233_row0_col16\" class=\"data row0 col16\" >ictionary</td>\n",
       "      <td id=\"T_4c233_row0_col17\" class=\"data row0 col17\" >'</td>\n",
       "      <td id=\"T_4c233_row0_col18\" class=\"data row0 col18\" >\n",
       "</td>\n",
       "      <td id=\"T_4c233_row0_col19\" class=\"data row0 col19\" >'</td>\n",
       "      <td id=\"T_4c233_row0_col20\" class=\"data row0 col20\" >in</td>\n",
       "      <td id=\"T_4c233_row0_col21\" class=\"data row0 col21\" >strument</td>\n",
       "      <td id=\"T_4c233_row0_col22\" class=\"data row0 col22\" >'</td>\n",
       "    </tr>\n",
       "    <tr>\n",
       "      <th id=\"T_4c233_level0_row1\" class=\"row_heading level0 row1\" >tokens</th>\n",
       "      <td id=\"T_4c233_row1_col0\" class=\"data row1 col0\" >10035</td>\n",
       "      <td id=\"T_4c233_row1_col1\" class=\"data row1 col1\" >258</td>\n",
       "      <td id=\"T_4c233_row1_col2\" class=\"data row1 col2\" >1343</td>\n",
       "      <td id=\"T_4c233_row1_col3\" class=\"data row1 col3\" >291</td>\n",
       "      <td id=\"T_4c233_row1_col4\" class=\"data row1 col4\" >267</td>\n",
       "      <td id=\"T_4c233_row1_col5\" class=\"data row1 col5\" >1966</td>\n",
       "      <td id=\"T_4c233_row1_col6\" class=\"data row1 col6\" >3098</td>\n",
       "      <td id=\"T_4c233_row1_col7\" class=\"data row1 col7\" >16502</td>\n",
       "      <td id=\"T_4c233_row1_col8\" class=\"data row1 col8\" >443</td>\n",
       "      <td id=\"T_4c233_row1_col9\" class=\"data row1 col9\" >13832</td>\n",
       "      <td id=\"T_4c233_row1_col10\" class=\"data row1 col10\" >59</td>\n",
       "      <td id=\"T_4c233_row1_col11\" class=\"data row1 col11\" >21811</td>\n",
       "      <td id=\"T_4c233_row1_col12\" class=\"data row1 col12\" >45</td>\n",
       "      <td id=\"T_4c233_row1_col13\" class=\"data row1 col13\" >9782</td>\n",
       "      <td id=\"T_4c233_row1_col14\" class=\"data row1 col14\" >11</td>\n",
       "      <td id=\"T_4c233_row1_col15\" class=\"data row1 col15\" >4347</td>\n",
       "      <td id=\"T_4c233_row1_col16\" class=\"data row1 col16\" >12918</td>\n",
       "      <td id=\"T_4c233_row1_col17\" class=\"data row1 col17\" >40</td>\n",
       "      <td id=\"T_4c233_row1_col18\" class=\"data row1 col18\" >11</td>\n",
       "      <td id=\"T_4c233_row1_col19\" class=\"data row1 col19\" >40</td>\n",
       "      <td id=\"T_4c233_row1_col20\" class=\"data row1 col20\" >259</td>\n",
       "      <td id=\"T_4c233_row1_col21\" class=\"data row1 col21\" >34405</td>\n",
       "      <td id=\"T_4c233_row1_col22\" class=\"data row1 col22\" >40</td>\n",
       "    </tr>\n",
       "  </tbody>\n",
       "</table>\n"
      ],
      "text/plain": [
       "cohere.Tokens {\n",
       "\ttokens: [10035, 258, 1343, 291, 267, 1966, 3098, 16502, 443, 13832, 59, 21811, 45, 9782, 11, 4347, 12918, 40, 11, 40, 259, 34405, 40]\n",
       "\ttoken_strings: ['Make', ' a', ' list', ' of', ' the', ' following', ' words', ' surrounded', ' by', ' quotes', ':', ' dictionary', ',', ' instrument', '\\n', \"'d\", 'ictionary', \"'\", '\\n', \"'\", 'in', 'strument', \"'\"]\n",
       "\tmeta: {'api_version': {'version': '1'}}\n",
       "}"
      ]
     },
     "execution_count": 22,
     "metadata": {},
     "output_type": "execute_result"
    }
   ],
   "source": [
    "co.tokenize(\"Make a list of the following words:\\n1.dictionary\\n2:instrument.'dictionary'\\n'instrument'\")"
   ]
  },
  {
   "cell_type": "code",
   "execution_count": null,
   "id": "19f117d9-a9c3-4022-b394-adc64be052dd",
   "metadata": {},
   "outputs": [],
   "source": []
  }
 ],
 "metadata": {
  "kernelspec": {
   "display_name": "Python 3 (ipykernel)",
   "language": "python",
   "name": "python3"
  },
  "language_info": {
   "codemirror_mode": {
    "name": "ipython",
    "version": 3
   },
   "file_extension": ".py",
   "mimetype": "text/x-python",
   "name": "python",
   "nbconvert_exporter": "python",
   "pygments_lexer": "ipython3",
   "version": "3.9.6"
  }
 },
 "nbformat": 4,
 "nbformat_minor": 5
}
